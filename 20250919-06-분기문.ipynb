{
 "cells": [
  {
   "cell_type": "code",
   "execution_count": null,
   "id": "44b467e0",
   "metadata": {},
   "outputs": [],
   "source": [
    "#분기문"
   ]
  },
  {
   "cell_type": "code",
   "execution_count": null,
   "id": "7ac5327f",
   "metadata": {},
   "outputs": [
    {
     "name": "stdout",
     "output_type": "stream",
     "text": [
      "입력하신 문자열 안녕하세영의 길이는 5 입니다.\n",
      "프로그램을 종료합니다.\n"
     ]
    }
   ],
   "source": [
    "#사용자에게 문자열 입력받아 문자열의 길이를 출력\n",
    "#단, 입력한 문자열이 exit일 때까지 입력받고, exit가 아닌 경우 문자열의 길이 출력\n",
    "\n",
    "\n",
    "while True : \n",
    "    inStr = input(\"문자열을 입력하세요\")\n",
    "\n",
    "    if inStr == \"exit\" :\n",
    "        print(\"프로그램을 종료합니다.\")\n",
    "        break #반복문 종료\n",
    "    else : \n",
    "        print(f\"입력하신 문자열 '{inStr}'의 길이는 {len(inStr)} 입니다.\")\n",
    "\n"
   ]
  },
  {
   "cell_type": "code",
   "execution_count": 2,
   "id": "1955a7fc",
   "metadata": {},
   "outputs": [
    {
     "name": "stdout",
     "output_type": "stream",
     "text": [
      "3의 배수 합계는 18 입니다\n"
     ]
    }
   ],
   "source": [
    "#1부터 10까지 1씩 순차적으로 증가하는 for문에서 3의 배수 합계를 구하시오.\n",
    "\n",
    "sum = 0\n",
    "\n",
    "for i in range(1, 11) : \n",
    "    if i % 3 != 0 :\n",
    "        continue\n",
    "    \n",
    "    sum += i\n",
    "\n",
    "print(f'3의 배수 합계는 {sum} 입니다')\n"
   ]
  }
 ],
 "metadata": {
  "kernelspec": {
   "display_name": "Python 3",
   "language": "python",
   "name": "python3"
  },
  "language_info": {
   "codemirror_mode": {
    "name": "ipython",
    "version": 3
   },
   "file_extension": ".py",
   "mimetype": "text/x-python",
   "name": "python",
   "nbconvert_exporter": "python",
   "pygments_lexer": "ipython3",
   "version": "3.11.8"
  }
 },
 "nbformat": 4,
 "nbformat_minor": 5
}
