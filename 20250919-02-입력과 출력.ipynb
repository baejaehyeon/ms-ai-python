{
 "cells": [
  {
   "cell_type": "markdown",
   "id": "566ffc58",
   "metadata": {},
   "source": [
    "사용자 입력을 받기 위한 input()"
   ]
  },
  {
   "cell_type": "code",
   "execution_count": null,
   "id": "ff9b638a",
   "metadata": {},
   "outputs": [
    {
     "name": "stdout",
     "output_type": "stream",
     "text": [
      "Hello,!\n"
     ]
    }
   ],
   "source": [
    "#input() 사용자 입력을 받기 위해, 기다림\n",
    "#숫자를 입력하든, 문자를 입력하든 항상 문자열로 반환함\n",
    "\n",
    "name = input(\"이름을 입력하세요: \")  # 안내 메세지 출력 후, 사용자 입력 받아 name 변수에 저장\n",
    "print(\"Hello,\" + name + \"!\")"
   ]
  },
  {
   "cell_type": "code",
   "execution_count": 12,
   "id": "873c34a6",
   "metadata": {},
   "outputs": [
    {
     "name": "stdout",
     "output_type": "stream",
     "text": [
      "num1 + num2 =  34\n",
      "num1 * num2 =  64\n",
      "num1 - num2 =  30\n",
      "num1 / num2 =  16.0\n"
     ]
    }
   ],
   "source": [
    "# 숫자 2개를 입력받아, 사칙연산 결과 출력\n",
    "# input() 함수는 항상 문자열로 반환하므로, int() 함수를 사용해 정수로 변환 필요\n",
    "\n",
    "num1 = int(input(\"첫번 째 숫자 입력\"))\n",
    "num2 = int(input(\"두번 째 숫자 입력\"))\n",
    "\n",
    "print(\"num1 + num2 = \", num1 + num2)\n",
    "print(\"num1 * num2 = \", num1 * num2)\n",
    "print(\"num1 - num2 = \", num1 - num2)\n",
    "print(\"num1 / num2 = \", num1 / num2)\n"
   ]
  },
  {
   "cell_type": "code",
   "execution_count": null,
   "id": "015da7ce",
   "metadata": {},
   "outputs": [
    {
     "name": "stdout",
     "output_type": "stream",
     "text": [
      "dsad%das3232\n"
     ]
    }
   ],
   "source": [
    "# 형변환\n",
    "a = \"123\"  # 문자열\n",
    "b = int(a)  # 정수로 변환\n",
    "c = float(a)  # 실수로 변환\n",
    "\n",
    "d = 123\n",
    "e = str(d)  # 문자열로 변환\n"
   ]
  },
  {
   "cell_type": "code",
   "execution_count": 4,
   "id": "6fbaa830",
   "metadata": {},
   "outputs": [
    {
     "name": "stdout",
     "output_type": "stream",
     "text": [
      "Hello JaeHyeon\n",
      "10 + 20 = 30\n"
     ]
    }
   ],
   "source": [
    "#출력 print\n",
    "\n",
    "#기본 속성 커스텀\n",
    "print(\"Hello\", sep=\",\", end=\" \")\n",
    "print(\"JaeHyeon\")\n",
    "\n",
    "num1 = 10\n",
    "num2=  20 \n",
    "print(f\"{num1} + {num2} = {num1 + num2}\")"
   ]
  },
  {
   "cell_type": "code",
   "execution_count": 16,
   "id": "ad0e91ee",
   "metadata": {},
   "outputs": [
    {
     "name": "stdout",
     "output_type": "stream",
     "text": [
      "8\n",
      "4\n",
      "15\n"
     ]
    }
   ],
   "source": [
    "name = \"My Name is Mangnanyong\"\n",
    "\n",
    "find1 = name.index('i')\t\t\t#8\n",
    "find2 = name.index('a')\t\t\t#4 => 첫번 째 'a'의 위치를 리턴\n",
    "find3 = name.index('nan')\t\t#15\n",
    "#find4 = name.index('ABC')\t\t#-1 => 없는 문자열인 경우 -1을 리턴\n",
    "\n",
    "print(find1)\n",
    "print(find2)\n",
    "print(find3)\n"
   ]
  },
  {
   "cell_type": "code",
   "execution_count": 18,
   "id": "897e5249",
   "metadata": {},
   "outputs": [
    {
     "ename": "ValueError",
     "evalue": "invalid literal for int() with base 10: ''",
     "output_type": "error",
     "traceback": [
      "\u001b[31m---------------------------------------------------------------------------\u001b[39m",
      "\u001b[31mValueError\u001b[39m                                Traceback (most recent call last)",
      "\u001b[36mCell\u001b[39m\u001b[36m \u001b[39m\u001b[32mIn[18]\u001b[39m\u001b[32m, line 5\u001b[39m\n\u001b[32m      2\u001b[39m dduck = \u001b[32m3500\u001b[39m\n\u001b[32m      3\u001b[39m lamen = \u001b[32m2500\u001b[39m\n\u001b[32m----> \u001b[39m\u001b[32m5\u001b[39m kimCnt = \u001b[38;5;28;43mint\u001b[39;49m\u001b[43m(\u001b[49m\u001b[38;5;28;43minput\u001b[39;49m\u001b[43m(\u001b[49m\u001b[33;43m'\u001b[39;49m\u001b[33;43m김밥주문갯수 : \u001b[39;49m\u001b[33;43m'\u001b[39;49m\u001b[43m)\u001b[49m\u001b[43m)\u001b[49m\n\u001b[32m      6\u001b[39m dduckCnt = \u001b[38;5;28mint\u001b[39m(\u001b[38;5;28minput\u001b[39m(\u001b[33m'\u001b[39m\u001b[33m떡볶이주문갯수 : \u001b[39m\u001b[33m'\u001b[39m))\n\u001b[32m      7\u001b[39m lamenCnt = \u001b[38;5;28mint\u001b[39m(\u001b[38;5;28minput\u001b[39m(\u001b[33m'\u001b[39m\u001b[33m라면주문갯수 : \u001b[39m\u001b[33m'\u001b[39m))\n",
      "\u001b[31mValueError\u001b[39m: invalid literal for int() with base 10: ''"
     ]
    }
   ],
   "source": [
    "kimbab = 3000\n",
    "dduck = 3500\n",
    "lamen = 2500\n",
    "\n",
    "kimCnt = int(input('김밥주문갯수 : '))\n",
    "dduckCnt = int(input('떡볶이주문갯수 : '))\n",
    "lamenCnt = int(input('라면주문갯수 : '))\n",
    "\n",
    "print(f'지불하실 금액은 {kimbab * kimCnt + dduck * dduckCnt + lamen * lamenCnt} 입니다')"
   ]
  },
  {
   "cell_type": "code",
   "execution_count": null,
   "id": "4b6f80ff",
   "metadata": {},
   "outputs": [
    {
     "name": "stdout",
     "output_type": "stream",
     "text": [
      "['a', 'b', 'c', 'd']\n"
     ]
    }
   ],
   "source": []
  }
 ],
 "metadata": {
  "kernelspec": {
   "display_name": "Python 3",
   "language": "python",
   "name": "python3"
  },
  "language_info": {
   "codemirror_mode": {
    "name": "ipython",
    "version": 3
   },
   "file_extension": ".py",
   "mimetype": "text/x-python",
   "name": "python",
   "nbconvert_exporter": "python",
   "pygments_lexer": "ipython3",
   "version": "3.11.8"
  }
 },
 "nbformat": 4,
 "nbformat_minor": 5
}
