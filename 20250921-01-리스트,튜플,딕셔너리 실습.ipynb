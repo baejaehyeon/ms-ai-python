{
 "cells": [
  {
   "cell_type": "code",
   "execution_count": 2,
   "id": "cde8eb6e",
   "metadata": {},
   "outputs": [
    {
     "name": "stdout",
     "output_type": "stream",
     "text": [
      "[1, 2, 3, 4, 5]\n"
     ]
    }
   ],
   "source": [
    "# 리스트 - 1\n",
    "# 정수 리스트를 입력 받아, 중복된 요소를 모두 제거하고, 원래 순서를 유지하는 새로운 리스트 생성 함수 만들기\n",
    "\n",
    "def rmDuplicate(numList) : \n",
    "    newList = []\n",
    "    store = set()\n",
    "\n",
    "    for num in numList : \n",
    "        if not num in store : \n",
    "            newList.append(num)\n",
    "            store.add(num)\n",
    "\n",
    "    return newList\n",
    "\n",
    "prevList = [1,2,3,2,4,1,5]\n",
    "print(rmDuplicate(prevList))"
   ]
  },
  {
   "cell_type": "code",
   "execution_count": 16,
   "id": "b19c8cf8",
   "metadata": {},
   "outputs": [
    {
     "name": "stdout",
     "output_type": "stream",
     "text": [
      "[[1, 4, 7], [2, 5, 8], [3, 6, 9]]\n",
      "[[1, 4, 7], [2, 5, 8], [3, 6, 9]]\n"
     ]
    }
   ],
   "source": [
    "# 리스트 - 2\n",
    "# 2차원 리스트를 입력받아 행과 열을 뒤집은 새로운 2차원 리스트를 반환하는 함수 만들기\n",
    "# [[1,2,3], [4,5,6]]  => [[1,4], [2,5], [3,6]]\n",
    "\n",
    "def matrix(numList) : \n",
    "    newList = []\n",
    "\n",
    "    for subList in numList : # [1,2,3] or [4,5,6]\n",
    "        for idx in range(len(subList)) : # 0, 1, 2 \n",
    "            if len(newList) == idx : #내부 리스트가 생성되지 않은 경우\n",
    "                s = [subList[idx]]\n",
    "                newList.append(s)\n",
    "            else : \n",
    "                newList[idx].append(subList[idx])\n",
    "\n",
    "    return newList\n",
    "\n",
    "prevList = [[1,2,3], [4,5,6], [7,8,9]]\n",
    "newList = matrix(prevList)\n",
    "print(newList)\n",
    "\n",
    "# 리스트 컴프리헨션과 zip 사용하기\n",
    "\n",
    "def matrix(numList) : \n",
    "    newList = [list(num) for num in zip(*numList)]\n",
    "    return newList\n",
    "\n",
    "prevList = [[1,2,3], [4,5,6], [7,8,9]]\n",
    "newList = matrix(prevList)\n",
    "print(newList)"
   ]
  },
  {
   "cell_type": "code",
   "execution_count": 41,
   "id": "58223417",
   "metadata": {},
   "outputs": [
    {
     "name": "stdout",
     "output_type": "stream",
     "text": [
      "[3, 4, 5, 1, 2]\n",
      "[4, 5, 1, 2, 3]\n"
     ]
    }
   ],
   "source": [
    "# 리스트 - 3\n",
    "# 리스트와 정수를 입력받아, 오른쪽으로 입력받은 정수만큼 회전시키기\n",
    "# num = [1,2,3,4,5], k = 2    => [4,5,1,2,3]\n",
    "# [1,2,3,4,5]\n",
    "# [5,1,2,3,4]\n",
    "# [4,5,1,2,3]\n",
    "\n",
    "num = [1,2,3,4,5]\n",
    "k = 3\n",
    "\n",
    "for j in range(k) :  # 0, 1\n",
    "    temp = num[len(num) - 1] # 마지막 요소 값\n",
    "    \n",
    "    # 4부터 0까지 -1씩\n",
    "    for i in range(len(num)-1, -1, -1) : \n",
    "        num[i] = num[i-1] \n",
    "    num[0] = temp\n",
    "    \n",
    "\n",
    "print(num)\n",
    "\n",
    "# 슬라이싱 활용법\n",
    "num = [1,2,3,4,5]\n",
    "k = 7\n",
    "k = k % len(num)\n",
    "\n",
    "\n",
    "num = num[-k:] + num[:-k]\n",
    "print(num)"
   ]
  }
 ],
 "metadata": {
  "kernelspec": {
   "display_name": "Python 3",
   "language": "python",
   "name": "python3"
  },
  "language_info": {
   "codemirror_mode": {
    "name": "ipython",
    "version": 3
   },
   "file_extension": ".py",
   "mimetype": "text/x-python",
   "name": "python",
   "nbconvert_exporter": "python",
   "pygments_lexer": "ipython3",
   "version": "3.11.8"
  }
 },
 "nbformat": 4,
 "nbformat_minor": 5
}
