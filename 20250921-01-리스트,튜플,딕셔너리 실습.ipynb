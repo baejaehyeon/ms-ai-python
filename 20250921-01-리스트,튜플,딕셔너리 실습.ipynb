{
 "cells": [
  {
   "cell_type": "code",
   "execution_count": 2,
   "id": "cde8eb6e",
   "metadata": {},
   "outputs": [
    {
     "name": "stdout",
     "output_type": "stream",
     "text": [
      "[1, 2, 3, 4, 5]\n"
     ]
    }
   ],
   "source": [
    "# 리스트 - 1\n",
    "# 정수 리스트를 입력 받아, 중복된 요소를 모두 제거하고, 원래 순서를 유지하는 새로운 리스트 생성 함수 만들기\n",
    "\n",
    "def rmDuplicate(numList) : \n",
    "    newList = []\n",
    "    store = set()\n",
    "\n",
    "    for num in numList : \n",
    "        if not num in store : \n",
    "            newList.append(num)\n",
    "            store.add(num)\n",
    "\n",
    "    return newList\n",
    "\n",
    "prevList = [1,2,3,2,4,1,5]\n",
    "print(rmDuplicate(prevList))"
   ]
  },
  {
   "cell_type": "code",
   "execution_count": null,
   "id": "b19c8cf8",
   "metadata": {},
   "outputs": [
    {
     "name": "stdout",
     "output_type": "stream",
     "text": [
      "[[1, 4, 7], [2, 5, 8], [3, 6, 9]]\n",
      "[[1, 4, 7], [2, 5, 8], [3, 6, 9]]\n"
     ]
    }
   ],
   "source": [
    "# 리스트 - 2\n",
    "# 2차원 리스트를 입력받아 행과 열을 뒤집은 새로운 2차원 리스트를 반환하는 함수 만들기\n",
    "# [[1,2,3], [4,5,6]]  => [[1,4], [2,5], [3,6]]\n",
    "\n",
    "def matrix(numList) : \n",
    "    newList = []\n",
    "\n",
    "    for subList in numList : # [1,2,3] or [4,5,6]\n",
    "        for idx in range(len(subList)) : # 0, 1, 2 \n",
    "            if len(newList) == idx : #내부 리스트가 생성되지 않은 경우\n",
    "                s = [subList[idx]] # 리스트 생성\n",
    "                newList.append(s)\n",
    "            else : \n",
    "                newList[idx].append(subList[idx])\n",
    "\n",
    "    return newList\n",
    "\n",
    "prevList = [[1,2,3], [4,5,6], [7,8,9]]\n",
    "newList = matrix(prevList)\n",
    "print(newList)\n",
    "\n",
    "# 리스트 컴프리헨션과 zip 사용하기\n",
    "\n",
    "def matrix(numList) : \n",
    "    # zip은 리스트's를 묶어주는데 현재 numList는 리스트 3개를 가지는 1개의 리스트임.\n",
    "    # 그러므로 *를 붙여 1개의 리스트를 언패킹하여 리스트 3개를 전달.\n",
    "    newList = [list(num) for num in zip(*numList)]\n",
    "    return newList\n",
    "\n",
    "prevList = [[1,2,3], [4,5,6], [7,8,9]]\n",
    "newList = matrix(prevList)\n",
    "print(newList)"
   ]
  },
  {
   "cell_type": "code",
   "execution_count": null,
   "id": "58223417",
   "metadata": {},
   "outputs": [
    {
     "name": "stdout",
     "output_type": "stream",
     "text": [
      "[4, 5, 1, 2, 3]\n",
      "[1, 2, 3, 4, 5]\n",
      "[4, 5, 1, 2, 3]\n"
     ]
    }
   ],
   "source": [
    "# 리스트 - 3\n",
    "# 리스트와 정수를 입력받아, 오른쪽으로 입력받은 정수만큼 회전시키기\n",
    "# num = [1,2,3,4,5], k = 2    => [4,5,1,2,3]\n",
    "# [1,2,3,4,5]\n",
    "# [5,1,2,3,4]\n",
    "# [4,5,1,2,3]\n",
    "\n",
    "num = [1,2,3,4,5]\n",
    "k = 7 % len(num)\n",
    "print(num[-k:] + num[:len(num)-k])\n",
    "\n",
    "\n",
    "\n",
    "num = [1,2,3,4,5]\n",
    "k = 5\n",
    "\n",
    "for j in range(k) :  # 0, 1\n",
    "    temp = num[len(num) - 1] # 마지막 요소 값\n",
    "    \n",
    "    # 4부터 0까지 -1씩\n",
    "    for i in range(len(num)-1, -1, -1) : \n",
    "        num[i] = num[i-1] \n",
    "    num[0] = temp\n",
    "    \n",
    "\n",
    "print(num)\n",
    "\n",
    "# 슬라이싱 활용법\n",
    "num = [1,2,3,4,5]\n",
    "k = 7\n",
    "k = k % len(num)\n",
    "\n",
    "\n",
    "num = num[-k:] + num[:-k]\n",
    "print(num)"
   ]
  },
  {
   "cell_type": "code",
   "execution_count": null,
   "id": "63171c20",
   "metadata": {},
   "outputs": [
    {
     "name": "stdout",
     "output_type": "stream",
     "text": [
      "작 작\n",
      "기 기\n",
      "기 기\n",
      "기 기\n"
     ]
    }
   ],
   "source": [
    "var = \"시작\"\n",
    "\n",
    "while True : \n",
    "    inputStr = input(\"단어 입력하세요\")\n",
    "    \n",
    "    if var[-1] == inputStr[0] : \n",
    "        var = inputStr\n",
    "    else : \n",
    "        print(\"땡\")\n",
    "        break\n",
    "\n"
   ]
  },
  {
   "cell_type": "code",
   "execution_count": 5,
   "id": "0bc8cd5e",
   "metadata": {},
   "outputs": [
    {
     "name": "stdout",
     "output_type": "stream",
     "text": [
      "[1, 3, 0, 1, 3, 2, 4, 1, 0]\n"
     ]
    }
   ],
   "source": [
    "list1 = [1,1,3,3,0,1,1,3,3,2,2,4,1,0]\n",
    "\n",
    "newList = [list1[0]]\n",
    "\n",
    "for i in range(1, len(list1)) : \n",
    "    if list1[i] - list1[i-1] :\n",
    "        newList.append(list1[i])\n",
    "\n",
    "print(newList)"
   ]
  },
  {
   "cell_type": "code",
   "execution_count": 11,
   "id": "848e58a3",
   "metadata": {},
   "outputs": [
    {
     "name": "stdout",
     "output_type": "stream",
     "text": [
      "name\n",
      "배재현\n",
      "age\n",
      "31\n"
     ]
    }
   ],
   "source": [
    "dict1 = {'name' : '배재현', 'age' : 31}\n",
    "\n",
    "\n",
    "for (key, value) in dict1.items() :\n",
    "    print(key)\n",
    "    print(value)"
   ]
  },
  {
   "cell_type": "code",
   "execution_count": null,
   "id": "652b0962",
   "metadata": {},
   "outputs": [
    {
     "name": "stdout",
     "output_type": "stream",
     "text": [
      "python\n"
     ]
    }
   ],
   "source": [
    "# 강사님 문제 - 13-2\n",
    "\n",
    "morse = { \n",
    "    '.-':'a','-...':'b','-.-.':'c','-..':'d','.':'e','..-.':'f', \n",
    "    '--.':'g','....':'h','..':'i','.---':'j','-.-':'k','.-..':'l', \n",
    "    '--':'m','-.':'n','---':'o','.--.':'p','--.-':'q','.-.':'r', \n",
    "    '...':'s','-':'t','..-':'u','...-':'v','.--':'w','-..-':'x', \n",
    "    '-.--':'y','--..':'z' \n",
    "} \n",
    "\n",
    "#letter = \".... . .-.. .-.. ---\"\n",
    "letter = \".--. -.-- - .... --- -.\"\n",
    "\n",
    "result = \"\"\n",
    "\n",
    "for let in letter.split(\" \") :\n",
    "    result += morse.get(let)\n",
    "\n",
    "print(result)"
   ]
  },
  {
   "cell_type": "code",
   "execution_count": 21,
   "id": "0ef89aa6",
   "metadata": {},
   "outputs": [
    {
     "name": "stdout",
     "output_type": "stream",
     "text": [
      "====================\n",
      "1. 가제\n",
      "====================\n",
      "====================\n",
      "1. 가제\n",
      "2. 몰라\n",
      "====================\n",
      "====================\n",
      "1. 가제\n",
      "2. 몰라\n",
      "3. 하하\n",
      "====================\n",
      "====================\n",
      "1. 가제\n",
      "2. 하하\n",
      "====================\n",
      "====================\n",
      "1. 가제\n",
      "====================\n",
      "====================\n",
      "====================\n",
      "프로그램을 종료합니다.\n"
     ]
    }
   ],
   "source": [
    "# 강사님 문제 - 14-2\n",
    "\n",
    "workList = []\n",
    "\n",
    "def printWorkList(workList) :\n",
    "    print('=' * 20)\n",
    "    for i in range(len(workList)) : \n",
    "        print(f'{i+1}. {workList[i]}')\n",
    "    print('=' * 20)\n",
    "    \n",
    "while True : \n",
    "    menu = int(input('메뉴 선택(1 : 추가, 2: 삭제, 0 : 종료)'))\n",
    "\n",
    "    if menu == 1 :\n",
    "        addWork = input(\"할일 내용 입력 : \")\n",
    "        workList.append(addWork)\n",
    "\n",
    "        printWorkList(workList)\n",
    "    elif menu == 2 : \n",
    "        delWork = input(\"할일 내용 입력 : \")\n",
    "        workList.remove(delWork)\n",
    "\n",
    "        printWorkList(workList)\n",
    "    elif menu == 0 :\n",
    "        print('프로그램을 종료합니다.')\n",
    "        break\n",
    "    else : \n",
    "        print('메뉴 선택 오류입니다. 다시 선택하세요.')"
   ]
  },
  {
   "cell_type": "code",
   "execution_count": null,
   "id": "9f54c64b",
   "metadata": {},
   "outputs": [
    {
     "name": "stdout",
     "output_type": "stream",
     "text": [
      "검색 가능한 친구들 : []\n",
      "연락처가 존재하지 않습니다.\n",
      "검색 가능한 친구들 : ['배재현', '최현성']\n",
      "최현성의 연락처 : 010-3232-4343\n"
     ]
    }
   ],
   "source": [
    "cellDict = {}\n",
    "\n",
    "while True : \n",
    "    menu = int(input('메뉴 선택(1 : 추가, 2: 검색, 0 : 종료)'))\n",
    "\n",
    "    if menu == 1 :\n",
    "        name = input(\"친구 이름 입력 : \")\n",
    "        cellPhone = input(\"전화번호 입력 : \")\n",
    "        cellDict[name] = cellPhone\n",
    "    elif menu == 2 : \n",
    "        print(f'검색 가능한 친구들 : {list(cellDict.keys())}')\n",
    "        name = input(\"친구 이름 입력 : \")\n",
    "        print(f'{name}의 연락처 : {cellDict[name]}' if cellDict.get(name) != None else '연락처가 존재하지 않습니다.')\n",
    "    elif menu == 0 :\n",
    "        print('프로그램을 종료합니다.')\n",
    "        break\n",
    "    else : \n",
    "        print('메뉴 잘못 선택하셨습니다. 다시 선택하세요')"
   ]
  },
  {
   "cell_type": "code",
   "execution_count": 3,
   "id": "361c5779",
   "metadata": {},
   "outputs": [
    {
     "name": "stdout",
     "output_type": "stream",
     "text": [
      "['누드초코', '초코']\n"
     ]
    }
   ],
   "source": [
    "buyList = ['초코', '누드초코', '초코']\n",
    "\n",
    "print(sorted(set(buyList)))"
   ]
  },
  {
   "cell_type": "code",
   "execution_count": 6,
   "id": "da42efd3",
   "metadata": {},
   "outputs": [
    {
     "name": "stdout",
     "output_type": "stream",
     "text": [
      "7\n"
     ]
    }
   ],
   "source": [
    "wordList = \"culture experience symbol symbol education symbol effect education affair liberty liberty affair\"\n",
    "wordList =  list(set(wordList.split(\" \")))\n",
    "print(len(wordList))"
   ]
  }
 ],
 "metadata": {
  "kernelspec": {
   "display_name": "Python 3",
   "language": "python",
   "name": "python3"
  },
  "language_info": {
   "codemirror_mode": {
    "name": "ipython",
    "version": 3
   },
   "file_extension": ".py",
   "mimetype": "text/x-python",
   "name": "python",
   "nbconvert_exporter": "python",
   "pygments_lexer": "ipython3",
   "version": "3.11.8"
  }
 },
 "nbformat": 4,
 "nbformat_minor": 5
}
