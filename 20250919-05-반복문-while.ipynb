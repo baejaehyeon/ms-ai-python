{
 "cells": [
  {
   "cell_type": "code",
   "execution_count": null,
   "id": "52d7226d",
   "metadata": {},
   "outputs": [],
   "source": [
    "\"\"\"\n",
    "while 조건식 : \n",
    "    수행코드\n",
    "\"\"\""
   ]
  },
  {
   "cell_type": "code",
   "execution_count": 1,
   "id": "c9c6dc85",
   "metadata": {},
   "outputs": [
    {
     "name": "stdout",
     "output_type": "stream",
     "text": [
      "1부터 10까지의 합은 55 입니다\n"
     ]
    }
   ],
   "source": [
    "# 1부터 사용자 입력값까지의 합 구하기\n",
    "\n",
    "num = int(input(\"정수 입력하세용\"))\n",
    "\n",
    "i = 1\n",
    "sum = 0\n",
    "\n",
    "while i <= num :\n",
    "    sum += i\n",
    "    i+=1\n",
    "\n",
    "print(f'1부터 {num}까지의 합은 {sum} 입니다')"
   ]
  },
  {
   "cell_type": "code",
   "execution_count": 2,
   "id": "11a9aec7",
   "metadata": {},
   "outputs": [
    {
     "name": "stdout",
     "output_type": "stream",
     "text": [
      "1부터 10까지의 합계 : 55\n"
     ]
    }
   ],
   "source": [
    "# 1부터 10까지의 합계\n",
    "\n",
    "sum = 0\n",
    "num = 1\n",
    "\n",
    "while num <= 10 : \n",
    "    sum += num\n",
    "    num += 1\n",
    "\n",
    "print(f'1부터 10까지의 합계 : {sum}')"
   ]
  },
  {
   "cell_type": "code",
   "execution_count": 1,
   "id": "493d003d",
   "metadata": {},
   "outputs": [
    {
     "name": "stdout",
     "output_type": "stream",
     "text": [
      "0번째 학생은 합격입니다.\n",
      "1번째 학생은 불합격입니다.\n",
      "2번째 학생은 합격입니다.\n",
      "3번째 학생은 불합격입니다.\n",
      "4번째 학생은 합격입니다.\n"
     ]
    },
    {
     "ename": "SystemExit",
     "evalue": "",
     "output_type": "error",
     "traceback": [
      "An exception has occurred, use %tb to see the full traceback.\n",
      "\u001b[31mSystemExit\u001b[39m\n"
     ]
    },
    {
     "name": "stderr",
     "output_type": "stream",
     "text": [
      "C:\\Users\\EL32\\AppData\\Roaming\\Python\\Python311\\site-packages\\IPython\\core\\interactiveshell.py:3707: UserWarning: To exit: use 'exit', 'quit', or Ctrl-D.\n",
      "  warn(\"To exit: use 'exit', 'quit', or Ctrl-D.\", stacklevel=1)\n"
     ]
    }
   ],
   "source": [
    "# 5명의 학생들의 점수를 가지고 있는 리스트에서 60점 이상이면 합격 아니면 불합격 처리\n",
    "import sys\n",
    "\n",
    "scores = [90, 25, 67, 45, 80]\n",
    "\n",
    "num = 0\n",
    "\n",
    "while True : \n",
    "    if(scores[num] >= 60) :\n",
    "        print(f'{num}번째 학생은 합격입니다.')\n",
    "    else : \n",
    "        print(f'{num}번째 학생은 불합격입니다.')\n",
    "\n",
    "    num+=1\n",
    "    \n",
    "    if len(scores) == num :\n",
    "        sys.exit()"
   ]
  },
  {
   "cell_type": "code",
   "execution_count": 4,
   "id": "ac8a8d62",
   "metadata": {},
   "outputs": [
    {
     "name": "stdout",
     "output_type": "stream",
     "text": [
      "3 * 1 = 3\n",
      "3 * 2 = 6\n",
      "3 * 3 = 9\n",
      "3 * 4 = 12\n",
      "3 * 5 = 15\n",
      "3 * 6 = 18\n",
      "3 * 7 = 21\n",
      "3 * 8 = 24\n",
      "3 * 9 = 27\n"
     ]
    }
   ],
   "source": [
    "#사용자가 입력한 숫자에 해당하는 구구단 출력\n",
    "\n",
    "dan = int(input(\"단을 입력하세요\"))\n",
    "\n",
    "i = 1\n",
    "\n",
    "while i <= 9 :\n",
    "    print(f'{dan} * {i} = {dan*i}')\n",
    "    i+=1"
   ]
  },
  {
   "cell_type": "code",
   "execution_count": 7,
   "id": "a5aa05f9",
   "metadata": {},
   "outputs": [
    {
     "name": "stdout",
     "output_type": "stream",
     "text": [
      "안녕하세요\n",
      "안녕하세요\n",
      "안녕하세요\n",
      "안녕하세요\n",
      "안녕하세요\n"
     ]
    }
   ],
   "source": [
    "# 사용자가 입력한 수만큼 \"안녕하세요\" 출력\n",
    "\n",
    "num = int(input(\"정수 입력\"))\n",
    "\n",
    "i=1\n",
    "\n",
    "while i<=num : \n",
    "    print(\"안녕하세요\")\n",
    "    i+=1"
   ]
  },
  {
   "cell_type": "code",
   "execution_count": 9,
   "id": "c331b964",
   "metadata": {},
   "outputs": [
    {
     "name": "stdout",
     "output_type": "stream",
     "text": [
      "사용자가 입력한 5개 정수의 합 : 5\n"
     ]
    }
   ],
   "source": [
    "#5개의 정수를 입력받아 합계를 출력\n",
    "\n",
    "i=1\n",
    "sum = 0\n",
    "\n",
    "while i<=5 : \n",
    "    num = int(input(\"정수 입력\"))\n",
    "    sum+=num\n",
    "    i+=1\n",
    "\n",
    "print(f'사용자가 입력한 5개 정수의 합 : {sum}')"
   ]
  },
  {
   "cell_type": "code",
   "execution_count": 10,
   "id": "1123d4ac",
   "metadata": {},
   "outputs": [
    {
     "name": "stdout",
     "output_type": "stream",
     "text": [
      "10부터 20까지의 합은 165입니다\n"
     ]
    }
   ],
   "source": [
    "#정수 두개를 입력받고, 두 수 사이의 모든 수의 합을 구하는 프로그램\n",
    "\n",
    "num1 = int(input(\"첫번째 정수 입력\"))\n",
    "num2 = int(input(\"두번째 정수 입력\"))\n",
    "copyNum1 = num1\n",
    "sum = 0\n",
    "\n",
    "while num1 <= num2 : \n",
    "    sum += num1\n",
    "    num1 += 1\n",
    "\n",
    "print(f'{copyNum1}부터 {num2}까지의 합은 {sum}입니다')"
   ]
  },
  {
   "cell_type": "code",
   "execution_count": null,
   "id": "d0fa4ca1",
   "metadata": {},
   "outputs": [
    {
     "name": "stdout",
     "output_type": "stream",
     "text": [
      "2*1=2\t2*2=4\t2*3=6\t2*4=8\t2*5=10\t2*6=12\t2*7=14\t2*8=16\t2*9=18\t\n",
      "3*1=3\t3*2=6\t3*3=9\t3*4=12\t3*5=15\t3*6=18\t3*7=21\t3*8=24\t3*9=27\t\n",
      "4*1=4\t4*2=8\t4*3=12\t4*4=16\t4*5=20\t4*6=24\t4*7=28\t4*8=32\t4*9=36\t\n",
      "5*1=5\t5*2=10\t5*3=15\t5*4=20\t5*5=25\t5*6=30\t5*7=35\t5*8=40\t5*9=45\t\n",
      "6*1=6\t6*2=12\t6*3=18\t6*4=24\t6*5=30\t6*6=36\t6*7=42\t6*8=48\t6*9=54\t\n",
      "7*1=7\t7*2=14\t7*3=21\t7*4=28\t7*5=35\t7*6=42\t7*7=49\t7*8=56\t7*9=63\t\n",
      "8*1=8\t8*2=16\t8*3=24\t8*4=32\t8*5=40\t8*6=48\t8*7=56\t8*8=64\t8*9=72\t\n",
      "9*1=9\t9*2=18\t9*3=27\t9*4=36\t9*5=45\t9*6=54\t9*7=63\t9*8=72\t9*9=81\t\n"
     ]
    }
   ],
   "source": [
    "#중첩 while를 이용한 전체 구구단 출력 -  1\n",
    "\n",
    "\n",
    "dan = 2\n",
    "\n",
    "while dan <= 9 :\n",
    "    num = 1\n",
    "\n",
    "    while num <= 9 :\n",
    "        print(f'{dan}*{num}={dan*num}', end='\\t')\n",
    "        num+=1\n",
    "    \n",
    "    dan+=1\n",
    "    print()"
   ]
  },
  {
   "cell_type": "code",
   "execution_count": 14,
   "id": "822df90a",
   "metadata": {},
   "outputs": [
    {
     "name": "stdout",
     "output_type": "stream",
     "text": [
      "2*1=2\t3*1=3\t4*1=4\t5*1=5\t6*1=6\t7*1=7\t8*1=8\t9*1=9\t\n",
      "2*2=4\t3*2=6\t4*2=8\t5*2=10\t6*2=12\t7*2=14\t8*2=16\t9*2=18\t\n",
      "2*3=6\t3*3=9\t4*3=12\t5*3=15\t6*3=18\t7*3=21\t8*3=24\t9*3=27\t\n",
      "2*4=8\t3*4=12\t4*4=16\t5*4=20\t6*4=24\t7*4=28\t8*4=32\t9*4=36\t\n",
      "2*5=10\t3*5=15\t4*5=20\t5*5=25\t6*5=30\t7*5=35\t8*5=40\t9*5=45\t\n",
      "2*6=12\t3*6=18\t4*6=24\t5*6=30\t6*6=36\t7*6=42\t8*6=48\t9*6=54\t\n",
      "2*7=14\t3*7=21\t4*7=28\t5*7=35\t6*7=42\t7*7=49\t8*7=56\t9*7=63\t\n",
      "2*8=16\t3*8=24\t4*8=32\t5*8=40\t6*8=48\t7*8=56\t8*8=64\t9*8=72\t\n",
      "2*9=18\t3*9=27\t4*9=36\t5*9=45\t6*9=54\t7*9=63\t8*9=72\t9*9=81\t\n"
     ]
    }
   ],
   "source": [
    "#중첩 while를 이용한 전체 구구단 출력 -  2\n",
    "\n",
    "\n",
    "num = 1\n",
    "\n",
    "while num <= 9 :\n",
    "    dan = 2\n",
    "\n",
    "    while dan <= 9 :\n",
    "        print(f'{dan}*{num}={dan*num}', end='\\t')\n",
    "        dan+=1\n",
    "\n",
    "    num+=1\n",
    "    print()\n",
    "    "
   ]
  }
 ],
 "metadata": {
  "kernelspec": {
   "display_name": "Python 3",
   "language": "python",
   "name": "python3"
  },
  "language_info": {
   "codemirror_mode": {
    "name": "ipython",
    "version": 3
   },
   "file_extension": ".py",
   "mimetype": "text/x-python",
   "name": "python",
   "nbconvert_exporter": "python",
   "pygments_lexer": "ipython3",
   "version": "3.11.8"
  }
 },
 "nbformat": 4,
 "nbformat_minor": 5
}
