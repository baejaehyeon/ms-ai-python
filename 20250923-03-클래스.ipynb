{
 "cells": [
  {
   "cell_type": "code",
   "execution_count": 8,
   "id": "68705250",
   "metadata": {},
   "outputs": [
    {
     "name": "stdout",
     "output_type": "stream",
     "text": [
      "배재현\n"
     ]
    }
   ],
   "source": [
    "class Person :\n",
    "    # 클래스 변수(외부에서 직접 접근 가능)\n",
    "    name = '배재현'\n",
    "    age = 31\n",
    "    addr = '부천'\n",
    "\n",
    "    # 모든 메소드는 0번째 매개변수로 self를 작성해야 함.\n",
    "    def getWidth(self) :\n",
    "        return self.width\n",
    "    \n",
    "    def setWidth(self, width) : \n",
    "        self.width = width\n",
    "\n",
    "person1 = Person()\n",
    "\n",
    "print(person1.name) # 배재현\n"
   ]
  },
  {
   "cell_type": "code",
   "execution_count": 14,
   "id": "bf95c710",
   "metadata": {},
   "outputs": [
    {
     "name": "stdout",
     "output_type": "stream",
     "text": [
      "망나뇽\n",
      "30\n",
      "서울\n",
      "클래스 변수 변경하여 모든 인스턴스 공유됨\n"
     ]
    }
   ],
   "source": [
    "# getter, setter\n",
    "\n",
    "class Person :\n",
    "    # private 변수(외부에서 직접 접근 불가)\n",
    "    __name = '배재현'\n",
    "    __age = 31\n",
    "    __addr = '부천'\n",
    "\n",
    "    # 클래스 변수(외부에서 접근 가능)\n",
    "    varTest = '하이'\n",
    "    \n",
    "    def getName(self) :\n",
    "        return self.__name\n",
    "    \n",
    "    def setName(self, name) : \n",
    "        self.__name = name\n",
    "    \n",
    "    def getAge(self) : \n",
    "        return self.__age\n",
    "\n",
    "    def setAge(self, age) : \n",
    "        self.__age = age\n",
    "    \n",
    "    def getAddr(self) : \n",
    "        return self.__addr\n",
    "    \n",
    "    def setAddr(self, addr) : \n",
    "        self.__addr = addr\n",
    "\n",
    "person1 = Person()\n",
    "\n",
    "#print(person1.name) # Error! private 변수임.\n",
    "\n",
    "person1.setName('망나뇽')\n",
    "person1.setAge(30)\n",
    "person1.setAddr('서울')\n",
    "print(person1.getName())\n",
    "print(person1.getAge())\n",
    "print(person1.getAddr())\n",
    "\n",
    "#클래스 변수 변경\n",
    "Person.varTest = '클래스 변수 변경하여 모든 인스턴스 공유됨'\n",
    "\n",
    "print(person1.varTest)"
   ]
  },
  {
   "cell_type": "code",
   "execution_count": 16,
   "id": "7c07840c",
   "metadata": {},
   "outputs": [
    {
     "name": "stdout",
     "output_type": "stream",
     "text": [
      "배재현\n",
      "10\n"
     ]
    }
   ],
   "source": [
    "# 생성자\n",
    "\n",
    "class Person : \n",
    "    def __init__(self, name, age) : \n",
    "        self.__name = name\n",
    "        self.__age = age\n",
    "\n",
    "    def getName(self) :\n",
    "        return self.__name\n",
    "    \n",
    "    def setName(self, name) : \n",
    "        self.__name = name\n",
    "    \n",
    "    def getAge(self) : \n",
    "        return self.__age\n",
    "\n",
    "    def setAge(self, age) : \n",
    "        self.__age = age\n",
    "\n",
    "person1 = Person('배재현', 10)\n",
    "print(person1.getName())\n",
    "print(person1.getAge())"
   ]
  },
  {
   "cell_type": "code",
   "execution_count": 19,
   "id": "e4b0dc3f",
   "metadata": {},
   "outputs": [
    {
     "name": "stdout",
     "output_type": "stream",
     "text": [
      "망나뇽\n",
      "20\n",
      "서울\n"
     ]
    }
   ],
   "source": [
    "# 상속\n",
    "\n",
    "class Person : \n",
    "    def __init__(self, name, age) : \n",
    "        self.__name = name\n",
    "        self.__age = age\n",
    "\n",
    "    def getName(self) :\n",
    "        return self.__name\n",
    "    \n",
    "    def setName(self, name) : \n",
    "        self.__name = name\n",
    "    \n",
    "    def getAge(self) : \n",
    "        return self.__age\n",
    "\n",
    "    def setAge(self, age) : \n",
    "        self.__age = age\n",
    "        \n",
    "\n",
    "# class 클래스명(부모 클래스명)\n",
    "class ChildPerson(Person) : \n",
    "    pass # 임시 코드\n",
    "\n",
    "    def __init__(self, name, age, addr):\n",
    "        super().__init__(name, age) #부모 클래스 생성자 호출\n",
    "        self.__addr = addr\n",
    "        \n",
    "    def getAddr(self) : \n",
    "        return self.__addr\n",
    "    \n",
    "    def setAddr(self, addr) : \n",
    "        self.__addr = addr\n",
    "\n",
    "child1 = ChildPerson('망나뇽',20, '서울')\n",
    "    \n",
    "print(child1.getName())\n",
    "print(child1.getAge())\n",
    "print(child1.getAddr())\n"
   ]
  },
  {
   "cell_type": "code",
   "execution_count": 22,
   "id": "f9a63254",
   "metadata": {},
   "outputs": [
    {
     "name": "stdout",
     "output_type": "stream",
     "text": [
      "멍멍\n",
      "None\n",
      "야옹\n",
      "None\n"
     ]
    }
   ],
   "source": [
    "# 메소드 오버라이딩 : 부모 메소드 재정의\n",
    "\n",
    "class Animal : \n",
    "    def speak(self) : \n",
    "        print('하이?')\n",
    "\n",
    "class Dog(Animal) : \n",
    "    def speak(self):\n",
    "        print('멍멍')\n",
    "class Cat(Animal) : \n",
    "    def speak(self) :\n",
    "        print('야옹')\n",
    "\n",
    "\n",
    "dog = Dog()\n",
    "cat = Cat() \n",
    "\n",
    "print(dog.speak())\n",
    "print(cat.speak())"
   ]
  },
  {
   "cell_type": "code",
   "execution_count": 26,
   "id": "06d01325",
   "metadata": {},
   "outputs": [
    {
     "name": "stdout",
     "output_type": "stream",
     "text": [
      "카카오페이로 3000 결제\n",
      "페이코로 5000 결제\n"
     ]
    }
   ],
   "source": [
    "# 다형성\n",
    "\n",
    "class Pay() : \n",
    "    def pay(self) : \n",
    "        pass\n",
    "\n",
    "class KaKao(Pay) : \n",
    "    def pay(self, amount) : \n",
    "        print(f'카카오페이로 {amount} 결제')\n",
    "\n",
    "class Payco(Pay) : \n",
    "    def pay(self, amount) : \n",
    "        print(f'페이코로 {amount} 결제')\n",
    "\n",
    "\n",
    "def payment(pay : Pay, amount : int) : \n",
    "    pay.pay(amount)\n",
    "\n",
    "payment(KaKao(), 3000)\n",
    "payment(Payco(), 5000)"
   ]
  },
  {
   "cell_type": "code",
   "execution_count": null,
   "id": "bfdea0fb",
   "metadata": {},
   "outputs": [
    {
     "name": "stdout",
     "output_type": "stream",
     "text": [
      "20.0\n"
     ]
    }
   ],
   "source": [
    "# 포인트 관리 프로그램 - Grade - 추상 클래스 \n",
    "\n",
    "# 추상 메소드 선언을 위함.\n",
    "from abc import ABC, abstractmethod\n",
    "\n",
    "class Grade(ABC) : \n",
    "    def __init__(self, grade, name, point) : \n",
    "        self.__grade = grade\n",
    "        self.__name = name\n",
    "        self.__point = point\n",
    "    \n",
    "    def getGrade(self) :\n",
    "        return self.__grade\n",
    "    def setGrade(self, grade) : \n",
    "        self.__grade = grade\n",
    "\n",
    "    def getName(self) :\n",
    "        return self.__name\n",
    "    def setName(self, name) : \n",
    "        self.__name = name\n",
    "\n",
    "    def getPoint(self) :\n",
    "        return self.__point\n",
    "    def setPoint(self, point) : \n",
    "        self.__point = point    \n",
    "    \n",
    "    # 추상 메소드\n",
    "    @abstractmethod\n",
    "    def getBonus(self) : \n",
    "        pass\n",
    "\n",
    "# 실버 등급 클래스\n",
    "class Silver(Grade) : \n",
    "    def getBonus(self):\n",
    "        # Grade 클래스 각 변수는 private이므로 직접 접근 불가.\n",
    "        return self.getPoint() * 0.02\n",
    "    \n",
    "# 골드 등급 클래스\n",
    "class Gold(Grade) :\n",
    "    def getBonus(self):\n",
    "        return self.getPoint() * 0.05\n",
    "    \n",
    "# Vip 등급 클래스\n",
    "class Vip(Grade) :\n",
    "    def getBonus(self):\n",
    "        return self.getPoint() * 0.07\n",
    "        \n",
    "sil1 = Silver()\n",
    "\n",
    "# 회원 관리 리스트\n",
    "members = []\n",
    "\n",
    "# 포인트 관리 프로그램 메뉴\n",
    "while True : \n",
    "    print('*' * 20, '포인트 관리 프로그램', '*' * 20)\n",
    "    print('1. 회원 정보 등록')\n",
    "    print('2. 회원 정보 전체 출력')\n",
    "    print('3. 회원 정보 1명 출력')\n",
    "    print('4. 회원 정보 수정')\n",
    "    print('5. 회원 정보 삭제')\n",
    "    print('0. 프로그램 종료')\n",
    "\n",
    "    menu = int(input('메뉴 선택'))\n",
    "    \n",
    "\n",
    "\n"
   ]
  },
  {
   "cell_type": "code",
   "execution_count": null,
   "id": "2a6cccd7",
   "metadata": {},
   "outputs": [
    {
     "name": "stdout",
     "output_type": "stream",
     "text": [
      "card(1111-3232-4242-3232)로 30000원을 결제 했습니다.\n",
      "point로 3000원을 결제 했습니다.\n"
     ]
    }
   ],
   "source": [
    "class Payment(ABC) : \n",
    "    # 생성 객체 타입\n",
    "    def __init__(self, type) : \n",
    "        self.__type = type \n",
    "    \n",
    "    # private 변수 get\n",
    "    def getType(self) : \n",
    "        return self.__type\n",
    "    \n",
    "    # 결제 시, 호출 함수\n",
    "    def pay(self, amount):\n",
    "        print(f'{self.__type}로 {amount}원을 결제 했습니다.')\n",
    "\n",
    "class CreditCard(Payment) : \n",
    "    def __init__(self, card_number, cvc):\n",
    "        super().__init__('card')            # 부모 생성자 호출\n",
    "        self.__card_number = card_number\n",
    "        self.__cvc = cvc\n",
    "    \n",
    "    # type 변수는 부모 클래스 private 변수이므로, getter 함수 호출\n",
    "    def pay(self, amount):\n",
    "        print(f'{self.getType()}({self.__card_number})로 {amount}원을 결제 했습니다.')\n",
    "\n",
    "class PointCard(Payment) : \n",
    "    def __init__(self, balance):\n",
    "        super().__init__('point')\n",
    "        self.__balance = balance\n",
    "\n",
    "    def pay(self, amount) : \n",
    "        if self.__balance >= amount : \n",
    "            print(f'{self.getType()}로 {amount}원을 결제 했습니다.')\n",
    "            self.__balance -= amount\n",
    "        else : \n",
    "            print('포인트가 부족합니다.')\n",
    "\n",
    "c1 = CreditCard('1111-3232-4242-3232', 123)\n",
    "c1.pay(30000)\n",
    "\n",
    "p1 = PointCard(50000)\n",
    "p1.pay(3000)"
   ]
  },
  {
   "cell_type": "code",
   "execution_count": null,
   "id": "9c8a0269",
   "metadata": {},
   "outputs": [
    {
     "name": "stdout",
     "output_type": "stream",
     "text": [
      "[1 2 3 4 5]\n"
     ]
    }
   ],
   "source": []
  }
 ],
 "metadata": {
  "kernelspec": {
   "display_name": "Python 3",
   "language": "python",
   "name": "python3"
  },
  "language_info": {
   "codemirror_mode": {
    "name": "ipython",
    "version": 3
   },
   "file_extension": ".py",
   "mimetype": "text/x-python",
   "name": "python",
   "nbconvert_exporter": "python",
   "pygments_lexer": "ipython3",
   "version": "3.11.8"
  }
 },
 "nbformat": 4,
 "nbformat_minor": 5
}
