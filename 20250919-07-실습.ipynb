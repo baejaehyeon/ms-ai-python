{
 "cells": [
  {
   "cell_type": "code",
   "execution_count": null,
   "id": "3c50757b",
   "metadata": {},
   "outputs": [],
   "source": [
    "\"\"\" 소수 구하기 - 1\n",
    "사용자에게 1보다 큰 정수를 입력받아 소수 구하기\n",
    "소수란, 자기 자신을 임의의 숫자로 나누었을 때 나머지가 0인 숫자가 1과 자기 자신만 존재하는 수\n",
    "\"\"\"\n",
    "\n",
    "print(\"=\" * 10 + \"소수 구하기 프로그램\" + \"=\" * 10)\n",
    "\n",
    "num = int(input(\"1보다 큰 정수를 입력하세요\"))\n",
    "\n",
    "if num < 2 :\n",
    "    print(f'올바른 정수값을 입력하세요.')\n",
    "else : \n",
    "    #입력받은 모든 정수는 1과 자기 자신으로 나누었을 때 모두 나머지가 0이므로 나누어 볼 필요가 없음\n",
    "    chk = True\n",
    "\n",
    "    for i in range(2, num) : \n",
    "        if num % i == 0 : \n",
    "            chk = False\n",
    "            break #더 이상 수행할 필요 없음\n",
    "\n",
    "    if chk : \n",
    "        print(f'{num}은 소수입니다.')\n",
    "    else : \n",
    "        print(f'{num}은 소수가 아입니다.')\n"
   ]
  },
  {
   "cell_type": "code",
   "execution_count": 10,
   "id": "9e6cd8b1",
   "metadata": {},
   "outputs": [
    {
     "name": "stdout",
     "output_type": "stream",
     "text": [
      "소수 : 2\n",
      "소수 : 3\n",
      "소수 : 5\n",
      "소수 : 7\n",
      "소수 : 11\n",
      "소수 : 13\n",
      "2부터 15까지의 소수의 갯수는 6개 입니다\n"
     ]
    }
   ],
   "source": [
    "\"\"\" 소수 구하기 - 2\n",
    "사용자에게 1보다 큰 정수를 입력받아 입력받은 숫자까지의 소수의 갯수 구하기\n",
    "ex) 8 입력 시, 2부터 8까지 소수의 갯수는 2,3,5,7 4개\n",
    "\"\"\"\n",
    "\n",
    "maxNum = int(input(\"정수를 입력하세요\"))\n",
    "\n",
    "if maxNum < 2 : \n",
    "    print(\"1보다 큰 정수를 입력하세요\")\n",
    "else : \n",
    "    sum = 0\n",
    "    for num in range(2, maxNum+1) : #maxNum도 판별 대상에 포함\n",
    "\n",
    "        chk = True \n",
    "\n",
    "        for i in range(2, num) : \n",
    "            if num % i == 0 :\n",
    "                chk = False\n",
    "                break\n",
    "        \n",
    "        if chk : \n",
    "            print(f\"소수 : {num}\")\n",
    "            sum += 1\n",
    "\n",
    "    print(f\"2부터 {maxNum}까지의 소수의 갯수는 {sum}개 입니다\")\n",
    "    "
   ]
  },
  {
   "cell_type": "code",
   "execution_count": null,
   "id": "62658e6c",
   "metadata": {},
   "outputs": [
    {
     "name": "stdout",
     "output_type": "stream",
     "text": [
      "입력하신 숫자가 더 큽니다.\n",
      "입력하신 숫자가 더 작습니다.\n",
      "입력하신 숫자가 더 작습니다.\n",
      "입력하신 숫자가 더 큽니다.\n",
      "입력하신 숫자가 더 큽니다.\n",
      "입력하신 숫자가 더 큽니다.\n",
      "입력하신 숫자가 더 큽니다.\n",
      "정답입니다.\n"
     ]
    }
   ],
   "source": [
    "# 랜덤 숫자 맞추기\n",
    "\n",
    "import random\n",
    "\n",
    "answer = random.randint(1, 100)\n",
    "\n",
    "while True : \n",
    "    num = int(input(\"1부터 100사이의 숫자 입력 \"))\n",
    "\n",
    "    if num == answer : \n",
    "        print(\"정답입니다.\")\n",
    "        break\n",
    "    elif num < answer :\n",
    "        print(\"입력하신 숫자가 더 작습니다.\")\n",
    "    else : \n",
    "        print(\"입력하신 숫자가 더 큽니다.\")"
   ]
  },
  {
   "cell_type": "code",
   "execution_count": 2,
   "id": "365fd8c9",
   "metadata": {},
   "outputs": [
    {
     "name": "stdout",
     "output_type": "stream",
     "text": [
      "1234의 4번째 자릿수에는 4가 있습니다\n"
     ]
    }
   ],
   "source": [
    "# 강사님 문제 - 2\n",
    "\"\"\"\n",
    "Todo: 변수 a에 저장된 값의 b자리 값을 계산하여\t 변수 c에 저장하는 코드를 설계하라  \n",
    "#예를 들어 a에 1234가 저장되어 있고 b가 1일 경우 첫 번째 자리값인 4가 c에 저장된다.  \n",
    "#a가 1234일때 b가 4일 경우는 4번째 자리값인 1이 c에 저장되어야 한다.  \n",
    "\"\"\"\n",
    "\n",
    "a = 1234\n",
    "b = 4\n",
    "\n",
    "answer = str(a)[b-1]\n",
    "print(f'{a}의 {b}번째 자릿수에는 {answer}가 있습니다')"
   ]
  },
  {
   "cell_type": "code",
   "execution_count": 3,
   "id": "1bdc9cd9",
   "metadata": {},
   "outputs": [
    {
     "name": "stdout",
     "output_type": "stream",
     "text": [
      "(20.5 * 4.5) / 2 = 46.125\n"
     ]
    }
   ],
   "source": [
    "#강사님 문제 - 3\n",
    "\"\"\"\n",
    "삼각형의 넓이 구하기 \n",
    "# 사용자에게 삼각형의 밑변과 높이를 입력 받아 \n",
    "# 삼각형의 넓이를 출력하는 코드를 작성하세요. \n",
    "\"\"\"\n",
    "\n",
    "fNum1 = float(input(\"밑변 입력\"))\n",
    "fNum2 = float(input(\"높이 입력\"))\n",
    "\n",
    "print(f'({fNum1} * {fNum2}) / 2 = {(fNum1 * fNum2) / 2}')"
   ]
  },
  {
   "cell_type": "code",
   "execution_count": 7,
   "id": "7fd9cfaa",
   "metadata": {},
   "outputs": [
    {
     "name": "stdout",
     "output_type": "stream",
     "text": [
      "15\n"
     ]
    }
   ],
   "source": [
    "#강사님 문제 - 4\n",
    "\"\"\"\n",
    "다음 그림과 같이 바둑돌의 개수를 늘려가며 삼각형 모양을 만들려고 합니다. n이 입력으로 주어질 때, n단계에서 사용된 바둑돌의 개수를 출력하는 코드를 작성하세요. \n",
    "\n",
    "1 3 6 10 \n",
    "\"\"\"\n",
    "num = int(input(\"정수 입력 \"))\n",
    "sum = 0\n",
    "\n",
    "for i in range(1, num+1) : \n",
    "    sum += i\n",
    "\n",
    "print(sum)"
   ]
  },
  {
   "cell_type": "code",
   "execution_count": 8,
   "id": "b0dc2615",
   "metadata": {},
   "outputs": [
    {
     "name": "stdout",
     "output_type": "stream",
     "text": [
      "4 * 3 = 12\n",
      "444\n"
     ]
    }
   ],
   "source": [
    "#강사님 문제 - 5\n",
    "\"\"\"\n",
    "정수 num1, num2가 입력으로 주어질 때, 첫 번째 줄에는 num1과 num2를 곱한 수를, 두 번째 줄에는 num1을 num2번 반복하여 출력하도록 코드를 작성해주세요 \n",
    "\n",
    "입출력 예 #1 \n",
    "num1이 4, num2가 3이므로 첫째 줄에 4와 3을 곱한 12를 출력하고, 둘째 줄에 4를 3번 반복한 \"444\"를 출력합니다. \n",
    "\"\"\"\n",
    "\n",
    "num1 = int(input(\"첫번 째 정수\"))\n",
    "num2 = int(input(\"두번 째 정수\"))\n",
    "\n",
    "print(f'{num1} * {num2} = {num1 * num2}')\n",
    "print(f'{num1}' * num2)"
   ]
  },
  {
   "cell_type": "code",
   "execution_count": 1,
   "id": "6d67c23f",
   "metadata": {},
   "outputs": [
    {
     "name": "stdout",
     "output_type": "stream",
     "text": [
      "홀수\n"
     ]
    }
   ],
   "source": [
    "#강사님 문제 - 6\n",
    "# number가 짝수라면 \"짝수\"를, number가 홀수라면 \"홀수\"를 출력하도록 조건문을 작성해주세요. \n",
    "\n",
    "number = int(input(\"정수 입력\"))\n",
    "\n",
    "if number % 2 == 0 :\n",
    "    print(\"짝수\")\n",
    "else : \n",
    "    print(\"홀수\")\n",
    "\n",
    "    "
   ]
  },
  {
   "cell_type": "code",
   "execution_count": 2,
   "id": "bc5c093d",
   "metadata": {},
   "outputs": [
    {
     "name": "stdout",
     "output_type": "stream",
     "text": [
      "당신은 77점 이므로, C 입니다.\n"
     ]
    }
   ],
   "source": [
    "#강사님 문제 - 7\n",
    "# 입력된 학생의 점수 score에 따라 성적을 A, B, C, D, F로 구분하여 출력하는 코드를 작성해주세요 \n",
    "\n",
    "score = int(input(\"점수를 입력하세요\"))\n",
    "\n",
    "if score >= 90 :\n",
    "    print(f'당신은 {score}점 이므로, A 입니다.')\n",
    "elif score >= 80 : \n",
    "    print(f'당신은 {score}점 이므로, B 입니다.')\n",
    "elif score >= 70 : \n",
    "    print(f'당신은 {score}점 이므로, C 입니다.')\n",
    "elif score >= 60 : \n",
    "    print(f'당신은 {score}점 이므로, D 입니다.')\n",
    "else : \n",
    "    print(f'당신은 {score}점 이므로, F 입니다.')            "
   ]
  },
  {
   "cell_type": "markdown",
   "id": "9d7c9756",
   "metadata": {},
   "source": []
  }
 ],
 "metadata": {
  "kernelspec": {
   "display_name": "Python 3",
   "language": "python",
   "name": "python3"
  },
  "language_info": {
   "codemirror_mode": {
    "name": "ipython",
    "version": 3
   },
   "file_extension": ".py",
   "mimetype": "text/x-python",
   "name": "python",
   "nbconvert_exporter": "python",
   "pygments_lexer": "ipython3",
   "version": "3.11.8"
  }
 },
 "nbformat": 4,
 "nbformat_minor": 5
}
