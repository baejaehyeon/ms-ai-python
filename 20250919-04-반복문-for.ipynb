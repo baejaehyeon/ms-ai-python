{
 "cells": [
  {
   "cell_type": "code",
   "execution_count": 2,
   "id": "8b453fb9",
   "metadata": {},
   "outputs": [
    {
     "data": {
      "text/plain": [
       "'\\nfor 변수 in 리스트, 튜플, 문자열\\n'"
      ]
     },
     "execution_count": 2,
     "metadata": {},
     "output_type": "execute_result"
    }
   ],
   "source": [
    "\"\"\"\n",
    "for 변수 in 리스트, 튜플, 문자열\n",
    "\"\"\""
   ]
  },
  {
   "cell_type": "code",
   "execution_count": null,
   "id": "450ef1e1",
   "metadata": {},
   "outputs": [
    {
     "name": "stdout",
     "output_type": "stream",
     "text": [
      "i = 0\n",
      "i = 1\n",
      "i = 2\n",
      "i = 3\n",
      "i = 4\n",
      "i = 5\n",
      "i = 6\n",
      "i = 7\n",
      "i = 8\n",
      "i = 9\n",
      "==========\n",
      "i = 2\n",
      "i = 3\n",
      "i = 4\n",
      "i = 5\n",
      "i = 6\n",
      "i = 7\n",
      "i = 8\n",
      "i = 9\n",
      "i = 10\n"
     ]
    }
   ],
   "source": [
    "#기본 for문\n",
    "#for 변수 in range([시작값,] 최대값 [, 증감수])\n",
    "\n",
    "for i in range(10) :        #최대값 -1 까지\n",
    "    print(f'i = {i}')\n",
    "\n",
    "print('=' * 10)\n",
    "\n",
    "for i in range(2,10) :\n",
    "    print(f'i = {i}')"
   ]
  },
  {
   "cell_type": "code",
   "execution_count": 5,
   "id": "4ed40e0a",
   "metadata": {},
   "outputs": [
    {
     "name": "stdout",
     "output_type": "stream",
     "text": [
      "0번째 값은 a\n",
      "1번째 값은 b\n",
      "2번째 값은 c\n",
      "3번째 값은 d\n",
      "4번째 값은 e\n"
     ]
    }
   ],
   "source": [
    "#리스트\n",
    "list1 = ['a', 'b', 'c', 'd', 'e']\n",
    "\n",
    "num = 0\n",
    "for i in list1 : \n",
    "    print(f'{num}번째 값은 {i}')\n",
    "    num+=1"
   ]
  },
  {
   "cell_type": "code",
   "execution_count": 7,
   "id": "ba1fc4eb",
   "metadata": {},
   "outputs": [
    {
     "name": "stdout",
     "output_type": "stream",
     "text": [
      "1 + 3 = 4\n",
      "4 + 2 = 6\n",
      "2 + 5 = 7\n"
     ]
    }
   ],
   "source": [
    "#다양한 for문\n",
    "\n",
    "list1 = [(1,3), (4,2), (2,5)] #튜플을 각 원소로 가지는 리스트\n",
    "\n",
    "for (first, last) in list1 :\n",
    "    print(f'{first} + {last} = {first + last}')\n",
    "\n"
   ]
  },
  {
   "cell_type": "code",
   "execution_count": 10,
   "id": "4339fcb7",
   "metadata": {},
   "outputs": [
    {
     "name": "stdout",
     "output_type": "stream",
     "text": [
      "1번째 학생은 합격입니다.\n",
      "2번째 학생은 불합격입니다.\n",
      "3번째 학생은 합격입니다.\n",
      "4번째 학생은 불합격입니다.\n",
      "5번째 학생은 합격입니다.\n"
     ]
    }
   ],
   "source": [
    "# 5명의 학생들의 점수를 가지고 있는 리스트에서 60점 이상이면 합격 아니면 불합격 처리\n",
    "\n",
    "scores = [90, 25, 67, 45, 80]\n",
    "\n",
    "num = 1\n",
    "\n",
    "for score in scores :\n",
    "    if score >= 60 :\n",
    "        print(f'{num}번째 학생은 합격입니다.')\n",
    "    else : \n",
    "        print(f'{num}번째 학생은 불합격입니다.')\n",
    "    \n",
    "    num+=1"
   ]
  },
  {
   "cell_type": "code",
   "execution_count": 14,
   "id": "eeb41f6a",
   "metadata": {},
   "outputs": [
    {
     "name": "stdout",
     "output_type": "stream",
     "text": [
      "1부터 10까지의 합은 55입니다\n",
      "1부터 10까지의 곱은 3628800입니다\n"
     ]
    }
   ],
   "source": [
    "# 1부터 10까지의 합계\n",
    "\n",
    "sum = 0\n",
    "mul = 1\n",
    "\n",
    "for i in range(1,11) : #최대값 -1까지이므로 11\n",
    "    sum += i\n",
    "    mul *= i\n",
    "\n",
    "print(f'1부터 10까지의 합은 {sum}입니다')\n",
    "print(f'1부터 10까지의 곱은 {mul}입니다')"
   ]
  },
  {
   "cell_type": "code",
   "execution_count": 16,
   "id": "d2c847d3",
   "metadata": {},
   "outputs": [
    {
     "name": "stdout",
     "output_type": "stream",
     "text": [
      "3 * 1 = 3\n",
      "3 * 2 = 6\n",
      "3 * 3 = 9\n",
      "3 * 4 = 12\n",
      "3 * 5 = 15\n",
      "3 * 6 = 18\n",
      "3 * 7 = 21\n",
      "3 * 8 = 24\n",
      "3 * 9 = 27\n"
     ]
    }
   ],
   "source": [
    "#사용자가 입력한 숫자에 해당하는 구구단 출력\n",
    "\n",
    "dan = int(input(\"구구단 단을 입력하세요\"))\n",
    "\n",
    "for i in range(1,10) :\n",
    "    print(f'{dan} * {i} = {dan * i}')"
   ]
  },
  {
   "cell_type": "code",
   "execution_count": 17,
   "id": "fc65ab0a",
   "metadata": {},
   "outputs": [
    {
     "name": "stdout",
     "output_type": "stream",
     "text": [
      "안녕하세용\n",
      "안녕하세용\n",
      "안녕하세용\n"
     ]
    }
   ],
   "source": [
    "# 사용자가 입력한 수만큼 \"안녕하세요\" 출력\n",
    "\n",
    "num = int(input(\"몇번 출력하시겠습니까 ? \"))\n",
    "\n",
    "for i in range(num) :\n",
    "    print('안녕하세용')"
   ]
  },
  {
   "cell_type": "code",
   "execution_count": 18,
   "id": "d2a07646",
   "metadata": {},
   "outputs": [
    {
     "name": "stdout",
     "output_type": "stream",
     "text": [
      "입력한 5개의 정수의 합 : 36\n"
     ]
    }
   ],
   "source": [
    "#5개의 정수를 입력받아 합계를 출력\n",
    "\n",
    "sum = 0\n",
    "\n",
    "for i in range(5) :\n",
    "    sum += int(input(\"정수값을 입력하세요\"))\n",
    "\n",
    "print(f'입력한 5개의 정수의 합 : {sum}')"
   ]
  },
  {
   "cell_type": "code",
   "execution_count": 21,
   "id": "2a55c300",
   "metadata": {},
   "outputs": [
    {
     "name": "stdout",
     "output_type": "stream",
     "text": [
      "10 ~ 20의 정수의 합 : 165\n"
     ]
    }
   ],
   "source": [
    "#정수 두개를 입력받고, 두 수 사이의 모든 수의 합을 구하는 프로그램\n",
    "\n",
    "num1 = int(input(\"첫번째 정수 입력\"))\n",
    "num2 = int(input(\"두번째 정수 입력\"))\n",
    "sum = 0\n",
    "\n",
    "#합을 구할 때, num1과 num2도 포함\n",
    "for i in range(num1, num2+1) : \n",
    "    sum += i\n",
    "\n",
    "print(f'{num1} ~ {num2}의 정수의 합 : {sum}')"
   ]
  },
  {
   "cell_type": "code",
   "execution_count": null,
   "id": "577c5fcd",
   "metadata": {},
   "outputs": [
    {
     "name": "stdout",
     "output_type": "stream",
     "text": [
      "2*1=2\t2*2=4\t2*3=6\t2*4=8\t2*5=10\t2*6=12\t2*7=14\t2*8=16\t2*9=18\t\n",
      "3*1=3\t3*2=6\t3*3=9\t3*4=12\t3*5=15\t3*6=18\t3*7=21\t3*8=24\t3*9=27\t\n",
      "4*1=4\t4*2=8\t4*3=12\t4*4=16\t4*5=20\t4*6=24\t4*7=28\t4*8=32\t4*9=36\t\n",
      "5*1=5\t5*2=10\t5*3=15\t5*4=20\t5*5=25\t5*6=30\t5*7=35\t5*8=40\t5*9=45\t\n",
      "6*1=6\t6*2=12\t6*3=18\t6*4=24\t6*5=30\t6*6=36\t6*7=42\t6*8=48\t6*9=54\t\n",
      "7*1=7\t7*2=14\t7*3=21\t7*4=28\t7*5=35\t7*6=42\t7*7=49\t7*8=56\t7*9=63\t\n",
      "8*1=8\t8*2=16\t8*3=24\t8*4=32\t8*5=40\t8*6=48\t8*7=56\t8*8=64\t8*9=72\t\n",
      "9*1=9\t9*2=18\t9*3=27\t9*4=36\t9*5=45\t9*6=54\t9*7=63\t9*8=72\t9*9=81\t\n"
     ]
    }
   ],
   "source": [
    "#중첩 for를 이용한 전체 구구단 출력 -  1\n",
    "\n",
    "for dan in range (2, 10) : #2단부터 시작\n",
    "    for num in range(1, 10) :\n",
    "        print(f'{dan}*{num}={dan*num}', end='\\t')\n",
    "    \n",
    "    print()"
   ]
  },
  {
   "cell_type": "code",
   "execution_count": 26,
   "id": "bf2a78b7",
   "metadata": {},
   "outputs": [
    {
     "name": "stdout",
     "output_type": "stream",
     "text": [
      "2*1=2\t3*1=3\t4*1=4\t5*1=5\t6*1=6\t7*1=7\t8*1=8\t9*1=9\t\n",
      "2*2=4\t3*2=6\t4*2=8\t5*2=10\t6*2=12\t7*2=14\t8*2=16\t9*2=18\t\n",
      "2*3=6\t3*3=9\t4*3=12\t5*3=15\t6*3=18\t7*3=21\t8*3=24\t9*3=27\t\n",
      "2*4=8\t3*4=12\t4*4=16\t5*4=20\t6*4=24\t7*4=28\t8*4=32\t9*4=36\t\n",
      "2*5=10\t3*5=15\t4*5=20\t5*5=25\t6*5=30\t7*5=35\t8*5=40\t9*5=45\t\n",
      "2*6=12\t3*6=18\t4*6=24\t5*6=30\t6*6=36\t7*6=42\t8*6=48\t9*6=54\t\n",
      "2*7=14\t3*7=21\t4*7=28\t5*7=35\t6*7=42\t7*7=49\t8*7=56\t9*7=63\t\n",
      "2*8=16\t3*8=24\t4*8=32\t5*8=40\t6*8=48\t7*8=56\t8*8=64\t9*8=72\t\n",
      "2*9=18\t3*9=27\t4*9=36\t5*9=45\t6*9=54\t7*9=63\t8*9=72\t9*9=81\t\n"
     ]
    }
   ],
   "source": [
    "#중첩 for를 이용한 전체 구구단 출력 -  2\n",
    "\n",
    "for num in range(1, 10) : \n",
    "    for dan in range(2, 10) :\n",
    "        print(f'{dan}*{num}={dan*num}', end='\\t')\n",
    "\n",
    "    print()"
   ]
  },
  {
   "cell_type": "code",
   "execution_count": null,
   "id": "9c5772ca",
   "metadata": {},
   "outputs": [],
   "source": []
  }
 ],
 "metadata": {
  "kernelspec": {
   "display_name": "Python 3",
   "language": "python",
   "name": "python3"
  },
  "language_info": {
   "codemirror_mode": {
    "name": "ipython",
    "version": 3
   },
   "file_extension": ".py",
   "mimetype": "text/x-python",
   "name": "python",
   "nbconvert_exporter": "python",
   "pygments_lexer": "ipython3",
   "version": "3.11.8"
  }
 },
 "nbformat": 4,
 "nbformat_minor": 5
}
