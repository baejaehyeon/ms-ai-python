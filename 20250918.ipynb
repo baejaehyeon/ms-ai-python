{
 "cells": [
  {
   "cell_type": "code",
   "execution_count": null,
   "id": "5fc94b82",
   "metadata": {},
   "outputs": [],
   "source": [
    "print(\"Hello\")"
   ]
  }
 ],
 "metadata": {
  "kernelspec": {
   "display_name": "Python 3",
   "language": "python",
   "name": "python3"
  },
  "language_info": {
   "name": "python",
   "version": "3.11.8"
  }
 },
 "nbformat": 4,
 "nbformat_minor": 5
}
