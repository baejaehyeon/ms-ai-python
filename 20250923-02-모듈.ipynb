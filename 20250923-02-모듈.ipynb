{
 "cells": [
  {
   "cell_type": "code",
   "execution_count": null,
   "id": "cf7a813e",
   "metadata": {},
   "outputs": [
    {
     "name": "stdout",
     "output_type": "stream",
     "text": [
      "4\n"
     ]
    }
   ],
   "source": [
    "# random 모듈에서 randint 함수'만' 사용. alias는 rdi\n",
    "from random import randint as rdi\n",
    "\n",
    "# 1부터 5까지 숫자 중 랜덤\n",
    "num = rdi(1, 5) # 두번 째 인자도 포함\n",
    "print(num)"
   ]
  },
  {
   "cell_type": "code",
   "execution_count": null,
   "id": "835c487e",
   "metadata": {},
   "outputs": [
    {
     "name": "stdout",
     "output_type": "stream",
     "text": [
      "2\n"
     ]
    }
   ],
   "source": [
    "import random as rd\n",
    "\n",
    "# 1부터 5-1까지 숫자 중 랜덤\n",
    "num = rd.randrange(1, 5) # 두번 째 인자 - 까지 포함\n",
    "print(num)"
   ]
  },
  {
   "cell_type": "code",
   "execution_count": null,
   "id": "b50e2c13",
   "metadata": {},
   "outputs": [
    {
     "name": "stdout",
     "output_type": "stream",
     "text": [
      "[39, 30, 11, 2, 9, 43]\n"
     ]
    }
   ],
   "source": [
    "# 로또 (랜덤 숫자  6개)\n",
    "\n",
    "import random as rd\n",
    "\n",
    "result = []\n",
    "\n",
    "while True : \n",
    "    ranNum = rd.randrange(45)\n",
    "\n",
    "    if ranNum not in result :  #중복 값 제외\n",
    "        result.append(ranNum)\n",
    "    \n",
    "    if len(result) == 6 : \n",
    "        break\n",
    "    \n",
    "print(result)"
   ]
  }
 ],
 "metadata": {
  "kernelspec": {
   "display_name": "Python 3",
   "language": "python",
   "name": "python3"
  },
  "language_info": {
   "codemirror_mode": {
    "name": "ipython",
    "version": 3
   },
   "file_extension": ".py",
   "mimetype": "text/x-python",
   "name": "python",
   "nbconvert_exporter": "python",
   "pygments_lexer": "ipython3",
   "version": "3.11.8"
  }
 },
 "nbformat": 4,
 "nbformat_minor": 5
}
