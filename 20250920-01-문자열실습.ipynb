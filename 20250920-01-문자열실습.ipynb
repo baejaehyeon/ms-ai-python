{
 "cells": [
  {
   "cell_type": "code",
   "execution_count": 3,
   "id": "c60595f4",
   "metadata": {},
   "outputs": [
    {
     "name": "stdout",
     "output_type": "stream",
     "text": [
      "World\n",
      "World\n"
     ]
    }
   ],
   "source": [
    "# \"Hello World\"에서 \"World\"만 추출하기\n",
    "\n",
    "s = \"Hello World\"\n",
    "\n",
    "print(s[6:])\n",
    "print(s[s.find('World'):])"
   ]
  },
  {
   "cell_type": "code",
   "execution_count": 7,
   "id": "fec0b51d",
   "metadata": {},
   "outputs": [
    {
     "name": "stdout",
     "output_type": "stream",
     "text": [
      "Hello World\n",
      "Hello World\n",
      "Hello World\n",
      "Hello World\n",
      "Hello World\n"
     ]
    }
   ],
   "source": [
    "# 문자열 2개 합치기\n",
    "\n",
    "s1 = \"Hello\"\n",
    "s2 = \"World\"\n",
    "\n",
    "print(s1 + ' ' + s2)\n",
    "print(s1, s2)\n",
    "print('{} {}'.format(s1, s2))\n",
    "print('%s %s' % (s1, s2))\n",
    "print(f'{s1} {s2}')"
   ]
  },
  {
   "cell_type": "code",
   "execution_count": 16,
   "id": "e8ffaa12",
   "metadata": {},
   "outputs": [
    {
     "name": "stdout",
     "output_type": "stream",
     "text": [
      "i like banana\n",
      "i like banana\n"
     ]
    }
   ],
   "source": [
    "# \"i like apple\"을 \"i like banana\" 로 변경하기\n",
    "\n",
    "s = \"i like apple\"\n",
    "\n",
    "# replace 활용\n",
    "print(s.replace(\"apple\", \"banana\"))\n",
    "\n",
    "# 슬라이싱 활용\n",
    "s = s[:s.find(\"apple\")] + 'banana'\n",
    "print(s)\n",
    "\n"
   ]
  },
  {
   "cell_type": "code",
   "execution_count": 17,
   "id": "70e3d720",
   "metadata": {},
   "outputs": [
    {
     "name": "stdout",
     "output_type": "stream",
     "text": [
      "True\n"
     ]
    }
   ],
   "source": [
    "#문자열에 fun 포함되어 있으면 True, 없으면 False\n",
    "\n",
    "s = \"Python is fun\"\n",
    "\n",
    "print(True if s.find('fun') > -1 else False)"
   ]
  },
  {
   "cell_type": "code",
   "execution_count": 83,
   "id": "8dc90413",
   "metadata": {},
   "outputs": [
    {
     "name": "stdout",
     "output_type": "stream",
     "text": [
      "gnimmargorp\n",
      "gnimmargorp\n",
      "<reversed object at 0x000002CF42BA9990>\n",
      "gnimmargorp\n"
     ]
    }
   ],
   "source": [
    "#문자열 뒤집기\n",
    "\n",
    "s = \"programming\"\n",
    "\n",
    "newStr = \"\"\n",
    "\n",
    "for ch in s :\n",
    "    newStr = ch + newStr\n",
    "\n",
    "print(newStr)\n",
    "\n",
    "# 슬라이싱 이용 방법\n",
    "newStr = s[::-1]\n",
    "print(newStr)\n",
    "\n",
    "# reversed 활용\n",
    "\n",
    "newStr = ''.join(reversed(s)) # reversed 하게 되면 이터레이터 형태로 반환하므로\n",
    "print(newStr)"
   ]
  },
  {
   "cell_type": "code",
   "execution_count": 35,
   "id": "f88b4d08",
   "metadata": {},
   "outputs": [
    {
     "name": "stdout",
     "output_type": "stream",
     "text": [
      "HelloWorld\n",
      "HelloWorld\n"
     ]
    }
   ],
   "source": [
    "# 모든 공백 제거\n",
    "\n",
    "s = \"   Hello    World  \"\n",
    "\n",
    "# 1\n",
    "print(s.replace(' ', ''))\n",
    "\n",
    "# 2\n",
    "list = s.split(' ')\n",
    "s = ''.join(list)\n",
    "print(s)"
   ]
  },
  {
   "cell_type": "code",
   "execution_count": 48,
   "id": "9accb61a",
   "metadata": {},
   "outputs": [
    {
     "name": "stdout",
     "output_type": "stream",
     "text": [
      "a vs a\n",
      "b vs b\n",
      "c vs c\n",
      "True\n"
     ]
    }
   ],
   "source": [
    "# 회문 판별 : 앞으로 읽으나 뒤로 읽으나 똑같으면 True\n",
    "\n",
    "s = \"abcdcba\" # 0 ~ 6\n",
    "\n",
    "chk = True\n",
    "\n",
    "for i in range(0, len(s) // 2) : \n",
    "    print(f'{s[i]} vs {s[len(s)-1-i]}')\n",
    "\n",
    "    if s[i] != s[len(s)-1-i] :\n",
    "        chk = False\n",
    "        break\n",
    "\n",
    "print(chk)"
   ]
  },
  {
   "cell_type": "code",
   "execution_count": 49,
   "id": "9c5e5754",
   "metadata": {},
   "outputs": [
    {
     "name": "stdout",
     "output_type": "stream",
     "text": [
      "nohtyP si emosewa\n"
     ]
    }
   ],
   "source": [
    "# 단어 뒤집기\n",
    "# Python is awesome => nohtyP si emosewa\n",
    "\n",
    "s = \"Python is awesome\"\n",
    "\n",
    "list = s.split(\" \") #공백 기준으로 나누어 리스트의 각 요소로 \n",
    "\n",
    "for i in range(len(list)) :\n",
    "    list[i] = list[i][::-1] # 현재 요소 거꾸로 뒤집어 다시 세팅\n",
    "\n",
    "newStr = ' '.join(list) # 리스트 각 요소를 하나의 문자열로 합치며, 사이사이에 공백 추가\n",
    "print(newStr)"
   ]
  },
  {
   "cell_type": "code",
   "execution_count": 111,
   "id": "693e3985",
   "metadata": {},
   "outputs": [
    {
     "name": "stdout",
     "output_type": "stream",
     "text": [
      "a3b2c1\n",
      "a7b5c5\n"
     ]
    }
   ],
   "source": [
    "# 문자열 압축 : 반복되는 문자를 문자와 반복 횟수로 압축하는 함수 작성\n",
    "# \"aaabbc\" => \"a3b2c1\"\n",
    "\n",
    "s = \"aaabbc\"\n",
    "newStr = \"\"     #새롭게 만들어질 문자열\n",
    "\n",
    "for i in range(len(s)) :\n",
    "    # 첫번 째 반복회차거나, 이전 문자와 현재 문자가 달라진 경우에 count\n",
    "    # i == 0을 체크하지 않으면, 0번째와 -1(마지막)을 비교함.\n",
    "    if s[i] != s[i-1]: \n",
    "        newStr += s[i] + str(s.count(s[i]))\n",
    "\n",
    "print(newStr)\n",
    "\n",
    "\n",
    "# 알파벳 순서와 연속된 문자의 빈도수가 아닌 전체 문자열에서의 빈도수를 처리\n",
    "s = \"aabccaaaabbcccbba\"\n",
    "result = {}\n",
    "newStr = \"\"\n",
    "\n",
    "for i in s : \n",
    "    if i not in result : #현재 문자로 된 Key가 없는 경우\n",
    "        result[i] = 1\n",
    "    else : \n",
    "        result[i] += 1\n",
    "\n",
    "for ch in sorted(result.keys()) : \n",
    "    newStr += ch + str(result[ch])\n",
    "\n",
    "print(newStr)"
   ]
  },
  {
   "cell_type": "code",
   "execution_count": 116,
   "id": "ee0125bc",
   "metadata": {},
   "outputs": [
    {
     "name": "stdout",
     "output_type": "stream",
     "text": [
      "최대 길이 문자열인 \"abc\"의 길이는 3 입니다.\n"
     ]
    }
   ],
   "source": [
    "# 문자열에서 가장 긴 반복되지 않는 부분 문자열의 길이 구하기\n",
    "# \"abcabcbb\" => 3 (abc)\n",
    "# \n",
    "\n",
    "s = \"abccbad\"\n",
    "\n",
    "\n",
    "maxLen = -1     #최대 문자열 길이\n",
    "maxStr = \"\"     #최대 문자열\n",
    "var = \"\"        #문자열 임시 저장공간\n",
    "\n",
    "for i in range(len(s)) : \n",
    "    if var.find(s[i]) > -1 : #현재 저장된 문자열에 이미 포함되어 있는 경우\n",
    "        if len(var) > maxLen : \n",
    "            maxLen = len(var)\n",
    "            maxStr = var\n",
    "            var = s[i]\n",
    "    else : \n",
    "        var += s[i]\n",
    "\n",
    "print(f'최대 길이 문자열인 \"{maxStr}\"의 길이는 {maxLen} 입니다.')"
   ]
  },
  {
   "cell_type": "code",
   "execution_count": null,
   "id": "90c19316",
   "metadata": {},
   "outputs": [
    {
     "name": "stdout",
     "output_type": "stream",
     "text": [
      "a , ab ,ba\n",
      "최대 길이 문자열인 \"bac\"의 길이는 3 입니다.\n"
     ]
    }
   ],
   "source": [
    "s = \"abac\"\n",
    "\n",
    "maxLen = -1     # 최대 문자열 길이\n",
    "maxStr = \"\"     # 최대 문자열\n",
    "var = \"\"        # 임시 문자열\n",
    "\n",
    "for i in range(len(s)):\n",
    "    if s[i] in var:  \n",
    "        # 중복 문자가 나온 경우: 중복 문자의 다음 위치부터 잘라서 이어감\n",
    "        # var에 abcd가 있는 경우, 현재 문자가 b라면 var에서 cd를 추출하고, 뒤에 현재 문자 b를 붙여 최종적으로 var에 cdb를 저장\n",
    "        var = var[var.index(s[i]) + 1:] + s[i]\n",
    "        \n",
    "    else:\n",
    "        var += s[i]\n",
    "\n",
    "    # 중복이 나오든 안 나오든, 매번 길이 갱신 체크\n",
    "    if len(var) > maxLen:\n",
    "        maxLen = len(var)\n",
    "        maxStr = var\n",
    "\n",
    "print(f'최대 길이 문자열인 \"{maxStr}\"의 길이는 {maxLen} 입니다.')"
   ]
  },
  {
   "cell_type": "code",
   "execution_count": 129,
   "id": "81963715",
   "metadata": {},
   "outputs": [
    {
     "name": "stdout",
     "output_type": "stream",
     "text": [
      "progamin\n",
      "progamin\n"
     ]
    }
   ],
   "source": [
    "# 중복된 문자를 제외하고 새로운 문자열 생성\n",
    "s = \"programming\"\n",
    "newStr = \"\"\n",
    "\n",
    "# find 사용\n",
    "for ch in s :\n",
    "    if newStr.find(ch) > -1 :\n",
    "        continue\n",
    "    newStr += ch\n",
    "\n",
    "print(newStr)\n",
    "\n",
    "# set 사용\n",
    "newStr = \"\"\n",
    "seen = set()\n",
    "\n",
    "for ch in s : \n",
    "    if ch not in seen : \n",
    "        seen.add(ch)\n",
    "        newStr += ch\n",
    "\n",
    "print(newStr)"
   ]
  },
  {
   "cell_type": "code",
   "execution_count": 138,
   "id": "f07692c2",
   "metadata": {},
   "outputs": [
    {
     "name": "stdout",
     "output_type": "stream",
     "text": [
      "ABKKS12234\n",
      "ABKKS12234\n"
     ]
    }
   ],
   "source": [
    "# 문자열에서 숫자와 알파벳을 분리하고 오름차순 정렬하여, 다시 하나의 문자열로 생성\n",
    "\n",
    "s = \"KBS12KA324\"\n",
    "\n",
    "digit = []\n",
    "alpha = []\n",
    "\n",
    "for ch in s : \n",
    "    if ch.isdigit() :\n",
    "        digit.append(ch)\n",
    "    elif ch.isalpha() :\n",
    "        alpha.append(ch)\n",
    "\n",
    "alpha.sort()\n",
    "digit.sort()\n",
    "\n",
    "print(''.join(alpha) + ''.join(digit))\n",
    "\n",
    "\n",
    "alpha = [ch for ch in s if ch.isalpha()]\n",
    "digit = [ch for ch in s if ch.isdigit()]\n",
    "\n",
    "alpha = sorted(alpha)\n",
    "digit = sorted(digit)\n",
    "\n",
    "result = ''.join(alpha + digit)\n",
    "print(result)"
   ]
  },
  {
   "cell_type": "code",
   "execution_count": null,
   "id": "55124348",
   "metadata": {},
   "outputs": [
    {
     "name": "stdout",
     "output_type": "stream",
     "text": [
      "{'hello': 2, 'world': 1, 'python': 1, 'this': 1, 'is': 1, 'a': 1, 'great': 1, 'language': 1}\n"
     ]
    }
   ],
   "source": [
    "# 문자열에서 단어의 빈도수를 찾아, 결과는 딕셔너리 형태로\n",
    "\n",
    "s = \"Hello world. Hello Python. This is a great language.\"\n",
    "\n",
    "s = s.replace('.', '').lower() #마침표 제거\n",
    "list = s.split(' ')\n",
    "dic = {}\n",
    "\n",
    "for i in list : \n",
    "    #딕셔너리에 키가 존재하면 해당 키의 값을! 존재하지 않으면 0으로 초기화!  이후에 1을 더한 값을 다시 세팅\n",
    "    dic[i] = dic.get(i, 0) + 1\n",
    "\n",
    "\n",
    "print(dic)\n",
    "\n"
   ]
  }
 ],
 "metadata": {
  "kernelspec": {
   "display_name": "Python 3",
   "language": "python",
   "name": "python3"
  },
  "language_info": {
   "codemirror_mode": {
    "name": "ipython",
    "version": 3
   },
   "file_extension": ".py",
   "mimetype": "text/x-python",
   "name": "python",
   "nbconvert_exporter": "python",
   "pygments_lexer": "ipython3",
   "version": "3.11.8"
  }
 },
 "nbformat": 4,
 "nbformat_minor": 5
}
