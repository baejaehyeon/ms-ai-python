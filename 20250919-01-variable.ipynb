{
 "cells": [
  {
   "cell_type": "code",
   "execution_count": 1,
   "id": "80b295f6",
   "metadata": {},
   "outputs": [
    {
     "name": "stdout",
     "output_type": "stream",
     "text": [
      "Hello 파이썬 하루만에 다시 보네!\n"
     ]
    }
   ],
   "source": [
    "print(\"Hello 파이썬 하루만에 다시 보네!\")"
   ]
  },
  {
   "cell_type": "code",
   "execution_count": null,
   "id": "698786e5",
   "metadata": {},
   "outputs": [
    {
     "name": "stdout",
     "output_type": "stream",
     "text": [
      "이것도 문자열 \n"
     ]
    }
   ],
   "source": [
    "print('이것도 문자열')"
   ]
  },
  {
   "cell_type": "code",
   "execution_count": null,
   "id": "d1e00a00",
   "metadata": {},
   "outputs": [],
   "source": [
    "print('323232')\n",
    "# 이것은 숫자의 형태를 띄고 있는 문자열"
   ]
  },
  {
   "cell_type": "code",
   "execution_count": null,
   "id": "eb04abf8",
   "metadata": {},
   "outputs": [
    {
     "name": "stdout",
     "output_type": "stream",
     "text": [
      "12345\n"
     ]
    }
   ],
   "source": [
    "print(12345)\n",
    "# 숫자형 데이터 (정수)"
   ]
  },
  {
   "cell_type": "code",
   "execution_count": 5,
   "id": "57590363",
   "metadata": {},
   "outputs": [
    {
     "name": "stdout",
     "output_type": "stream",
     "text": [
      "3.1233\n"
     ]
    }
   ],
   "source": [
    "print(3.1233)\n",
    "# 숫자형 데이터 (실수)"
   ]
  },
  {
   "cell_type": "code",
   "execution_count": 6,
   "id": "13cbe4a7",
   "metadata": {},
   "outputs": [
    {
     "name": "stdout",
     "output_type": "stream",
     "text": [
      "True\n",
      "False\n"
     ]
    }
   ],
   "source": [
    "print(True)\n",
    "print(False)\n",
    "# 논리형 데이터 (자바와 다르게 앞 글자가 대문자)"
   ]
  },
  {
   "cell_type": "code",
   "execution_count": 13,
   "id": "427b60ef",
   "metadata": {},
   "outputs": [
    {
     "data": {
      "text/plain": [
       "NoneType"
      ]
     },
     "execution_count": 13,
     "metadata": {},
     "output_type": "execute_result"
    }
   ],
   "source": [
    "type(12345)  # <class 'int'>\n",
    "type(3.1233)  # <class 'float'>\n",
    "type(\"Hello\")  # <class 'str'>\n",
    "type(True)  # <class 'bool'>\n",
    "type(False)  # <class 'bool'>\n",
    "type([1, 2, 3])  # <class 'list'>\n",
    "type((1, 2, 3))  # <class 'tuple'>\n",
    "type({\"name\": \"Alice\", \"age\": 30})  # <class 'dict\n",
    "type({1, 2, 3})  # <class 'set'>\n",
    "type(None)  # <class 'NoneType'>\n",
    "# None은 자바의 null과 비슷한 개념\n",
    "# None은 아무것도 없음을 나타내는 특별한 값\n",
    "# None은 주로 함수에서 반환값이 없음을 나타낼 때 사용"
   ]
  },
  {
   "cell_type": "markdown",
   "id": "8e447de5",
   "metadata": {},
   "source": [
    "정수끼리의 사칙연산"
   ]
  },
  {
   "cell_type": "code",
   "execution_count": 14,
   "id": "fdd7e0f5",
   "metadata": {},
   "outputs": [
    {
     "name": "stdout",
     "output_type": "stream",
     "text": [
      "24\n",
      "16\n",
      "80\n",
      "5.0\n",
      "5\n",
      "0\n",
      "160000\n"
     ]
    }
   ],
   "source": [
    "num1 = 20\n",
    "num2 = 4\n",
    "\n",
    "print(num1 + num2)  # 24\n",
    "print(num1 - num2)  # 16\n",
    "print(num1 * num2)  # 80\n",
    "print(num1 / num2)  # 5.0 (자바와 다르게 정수 나누기라도 실수로 나옴)\n",
    "print(num1 // num2) # 5 (몫을 구하기 위한 연산자)\n",
    "print(num1 % num2)  # 0 (나머지)\n",
    "print(num1 ** num2) # 160000 (제곱 연산자) 20*20*20*20"
   ]
  },
  {
   "cell_type": "code",
   "execution_count": 15,
   "id": "c02c7247",
   "metadata": {},
   "outputs": [
    {
     "name": "stdout",
     "output_type": "stream",
     "text": [
      "24.444000000000003\n",
      "16.204\n",
      "83.73488\n",
      "4.933009708737864\n",
      "4.0\n",
      "3.844000000000001\n",
      "244905.11024287084\n"
     ]
    }
   ],
   "source": [
    "num1 = 20.324\n",
    "num2 = 4.12\n",
    "\n",
    "print(num1 + num2)  # 24.444\n",
    "print(num1 - num2)  # 16.204\n",
    "print(num1 * num2)  # 83.70888\n",
    "print(num1 / num2)  # 4.93883...\n",
    "print(num1 // num2) # 4.0 (몫) 정수/정수와 다르게 실수/실수는 몫도 실수\n",
    "print(num1 % num2)  # 3.880000000000002 (나머지)\n",
    "print(num1 ** num2) # 146060.2145... (제곱)"
   ]
  },
  {
   "cell_type": "markdown",
   "id": "d10a985d",
   "metadata": {},
   "source": [
    "연산자 - 비교 연산자\n",
    "== : 같다\n",
    "!= : 다르다\n",
    ">= : 크거나 같다\n",
    "<= : 작거나 같다"
   ]
  },
  {
   "cell_type": "code",
   "execution_count": 19,
   "id": "f682e9a4",
   "metadata": {},
   "outputs": [
    {
     "name": "stdout",
     "output_type": "stream",
     "text": [
      "HelloPython\n",
      "HelloHelloHello\n",
      "Hello Python\n"
     ]
    }
   ],
   "source": [
    "str1 = \"Hello\"\n",
    "str2 = \"Python\"\n",
    "\n",
    "print(str1 + str2)  # HelloPython\n",
    "print(str1 * 3)     # HelloHelloHello\n",
    "print(str1 + \" \" + str2)  # Hello Python"
   ]
  },
  {
   "cell_type": "code",
   "execution_count": 22,
   "id": "f2cc4c44",
   "metadata": {},
   "outputs": [
    {
     "name": "stdout",
     "output_type": "stream",
     "text": [
      "니\n"
     ]
    }
   ],
   "source": [
    "str1 = \"안녕하세요 저는 망나뇽입니다\"\n",
    "print(str1[-2])"
   ]
  }
 ],
 "metadata": {
  "kernelspec": {
   "display_name": "Python 3",
   "language": "python",
   "name": "python3"
  },
  "language_info": {
   "codemirror_mode": {
    "name": "ipython",
    "version": 3
   },
   "file_extension": ".py",
   "mimetype": "text/x-python",
   "name": "python",
   "nbconvert_exporter": "python",
   "pygments_lexer": "ipython3",
   "version": "3.11.8"
  }
 },
 "nbformat": 4,
 "nbformat_minor": 5
}
