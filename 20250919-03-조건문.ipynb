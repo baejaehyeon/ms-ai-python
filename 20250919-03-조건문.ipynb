{
 "cells": [
  {
   "cell_type": "code",
   "execution_count": 2,
   "id": "225b32fd",
   "metadata": {},
   "outputs": [
    {
     "name": "stdout",
     "output_type": "stream",
     "text": [
      "20가 10보다 큽니다.\n"
     ]
    }
   ],
   "source": [
    "num1 = 10\n",
    "num2 = 20\n",
    "\n",
    "if num1 > num2 :\n",
    "    print(f'{num1}이 {num2}보다 큽니다.')\n",
    "else :\n",
    "    print(f'{num2}가 {num1}보다 큽니다.')\n"
   ]
  },
  {
   "cell_type": "code",
   "execution_count": 9,
   "id": "3b99feb9",
   "metadata": {},
   "outputs": [
    {
     "name": "stdout",
     "output_type": "stream",
     "text": [
      "==========숫자 구별 프로그램==========\n",
      "당신이 입력한 수 10은(는) 양수 입니다\n"
     ]
    }
   ],
   "source": [
    "# if문 3개를 이용해 숫자 구별 프로그램 만들기\n",
    "\n",
    "print(\"=\" * 10 + \"숫자 구별 프로그램\" + \"=\" * 10)\n",
    "num = int(input(\"임의의 정수를 이볅하세요.\"))\n",
    "str = \"\"\n",
    "\n",
    "if num>0 :\n",
    "    str = \"양수\"\n",
    "elif num<0 :\n",
    "    str = \"음수\"\n",
    "else : \n",
    "    str = \"0\"\n",
    "\n",
    "print(f'당신이 입력한 수 {num}은(는)', str, '입니다')"
   ]
  },
  {
   "cell_type": "code",
   "execution_count": 14,
   "id": "210bb385",
   "metadata": {},
   "outputs": [
    {
     "name": "stdout",
     "output_type": "stream",
     "text": [
      "==========짝수, 홀수 구분 프로그램==========\n",
      "입력하신 값 2은 짝수입니다.\n"
     ]
    }
   ],
   "source": [
    "# 짝수, 홀수 구분\n",
    "\n",
    "print(\"=\" * 10 + \"짝수, 홀수 구분 프로그램\" + \"=\" * 10)\n",
    "num = int(input(\"0보다 큰 양수를 입력하시오\"))\n",
    "\n",
    "if num < 1 :\n",
    "    print(\"0보다 큰 양수를 입력하시오!\")\n",
    "elif num%2==0 :\n",
    "    print(f\"입력하신 값 {num}은 짝수입니다.\")\n",
    "else : \n",
    "    print(f\"입력하신 값 {num}은 홀수입니다.\")"
   ]
  },
  {
   "cell_type": "code",
   "execution_count": 17,
   "id": "20009e23",
   "metadata": {},
   "outputs": [
    {
     "name": "stdout",
     "output_type": "stream",
     "text": [
      "==========두 수 비교 프로그램==========\n",
      "10=10\n",
      "두 수가 같습니다.\n"
     ]
    }
   ],
   "source": [
    "# 입력한 두 수의 크기 비교하기\n",
    "\n",
    "print(\"=\" * 10 + \"두 수 비교 프로그램\" + \"=\" * 10)\n",
    "num1 = int(input(\"첫번 째 정수를 입력하세요\"))\n",
    "num2 = int(input(\"두번 째 정수를 입력하세요\"))\n",
    "\n",
    "if num1 > num2 :\n",
    "    print(f'{num1}>{num2}')\n",
    "    print('첫번째 수가 더 큽니다.')\n",
    "elif num1 < num2 : \n",
    "    print(f'{num1}<{num2}')\n",
    "    print('두번째 수가 더 큽니다.')\n",
    "else :\n",
    "    print(f'{num1}={num2}')\n",
    "    print('두 수가 같습니다.')"
   ]
  },
  {
   "cell_type": "code",
   "execution_count": 26,
   "id": "0a98da22",
   "metadata": {},
   "outputs": [
    {
     "name": "stdout",
     "output_type": "stream",
     "text": [
      "==========계산기 프로그램==========\n",
      "10/2=5.0\n"
     ]
    }
   ],
   "source": [
    "# 계산기 프로그램\n",
    "import sys\n",
    "\n",
    "print(\"=\" * 10 + \"계산기 프로그램\" + \"=\" * 10)\n",
    "oper = input(\"연산자를 입력하세요 (+,-,*,/)\")\n",
    "\n",
    "if oper not in ['+', '-', '*', '/'] :\n",
    "    print('연산자를 잘못 입력하셨습니다.')\n",
    "    sys.exit() # 프로그램 종료\n",
    "\n",
    "num1 = int(input(\"첫번 째 정수를 입력하세요\"))\n",
    "num2 = int(input(\"두번 째 정수를 입력하세요\"))\n",
    "\n",
    "if oper == '+' :\n",
    "    print(f'{num1}+{num2}={num1+num2}')\n",
    "elif oper == '-' :\n",
    "    print(f'{num1}-{num2}={num1-num2}')\n",
    "elif oper == '*' :\n",
    "    print(f'{num1}*{num2}={num1*num2}')\n",
    "else :\n",
    "    print(f'{num1}/{num2}={num1/num2}')\n"
   ]
  },
  {
   "cell_type": "code",
   "execution_count": 31,
   "id": "b3011176",
   "metadata": {},
   "outputs": [
    {
     "name": "stdout",
     "output_type": "stream",
     "text": [
      "==========놀이공원 프로그램==========\n",
      "지불하실 총 금액은 45000원 입니다.\n"
     ]
    }
   ],
   "source": [
    "#놀이공원 프로그램 만들기\n",
    "\n",
    "import sys\n",
    "\n",
    "print(\"=\" * 10 + \"놀이공원 프로그램\" + \"=\" * 10)\n",
    "\n",
    "totalCnt = int(input(\"입장하실 총 인원은 몇명입니까?\"))\n",
    "adultCnt = int(input(\"어른은 몇명입니까? (인당 15,000원)\"))\n",
    "childCnt = int(input(\"어린이는 몇명입니까? (인당 5,000원)\"))\n",
    "\n",
    "if totalCnt != (adultCnt + childCnt) :\n",
    "    print(\"인원수가 맞지 않습니다.\")\n",
    "    sys.exit()\n",
    "\n",
    "adultPrice = 15000\n",
    "childPrice = 5000\n",
    "\n",
    "print(f'지불하실 총 금액은 {(adultCnt*adultPrice) + (childCnt*childPrice)}원 입니다.')"
   ]
  },
  {
   "cell_type": "code",
   "execution_count": null,
   "id": "01627fb2",
   "metadata": {},
   "outputs": [
    {
     "name": "stdout",
     "output_type": "stream",
     "text": [
      "==========대/소문자 변환 프로그램==========\n",
      "알파벳이 아입니다\n"
     ]
    },
    {
     "ename": "SystemExit",
     "evalue": "",
     "output_type": "error",
     "traceback": [
      "An exception has occurred, use %tb to see the full traceback.\n",
      "\u001b[31mSystemExit\u001b[39m\n"
     ]
    },
    {
     "name": "stderr",
     "output_type": "stream",
     "text": [
      "C:\\Users\\EL32\\AppData\\Roaming\\Python\\Python311\\site-packages\\IPython\\core\\interactiveshell.py:3707: UserWarning: To exit: use 'exit', 'quit', or Ctrl-D.\n",
      "  warn(\"To exit: use 'exit', 'quit', or Ctrl-D.\", stacklevel=1)\n"
     ]
    }
   ],
   "source": [
    "# 대소문자 변환 프로그램\n",
    "#isupper() : 대문자이면 True\n",
    "#islower() : 소문자이면 False\n",
    "#isalpha() : 알파벳이면 True\n",
    "\n",
    "import sys\n",
    "\n",
    "print(\"=\" * 10 + \"대/소문자 변환 프로그램\" + \"=\" * 10)\n",
    "\n",
    "inStr = input('문자 입력')\n",
    "\n",
    "if not inStr.isalpha() :\n",
    "    print(\"알파벳이 아입니다\")\n",
    "    sys.exit()\n",
    "\n",
    "\n",
    "if inStr.isupper() :\n",
    "    print(f'소문자로 변환 : {inStr.lower()}')\n",
    "else : \n",
    "    print(f'대문자로 변환 : {inStr.upper()}')"
   ]
  },
  {
   "cell_type": "code",
   "execution_count": null,
   "id": "5116910b",
   "metadata": {},
   "outputs": [],
   "source": [
    "# 다중 조건\n",
    "\n",
    "num = 12\n",
    "\n",
    "if num % 2 == 0 and num % 4 == 0 :\n",
    "    print(f'{num}은 짝수이면서 4의 배수입니다.')\n",
    "elif num % 2 == 0 and num % 4 != 0 :\n",
    "    print(f'{num}은 짝수이지만 4의 배수는 아닙니다.')"
   ]
  }
 ],
 "metadata": {
  "kernelspec": {
   "display_name": "Python 3",
   "language": "python",
   "name": "python3"
  },
  "language_info": {
   "codemirror_mode": {
    "name": "ipython",
    "version": 3
   },
   "file_extension": ".py",
   "mimetype": "text/x-python",
   "name": "python",
   "nbconvert_exporter": "python",
   "pygments_lexer": "ipython3",
   "version": "3.11.8"
  }
 },
 "nbformat": 4,
 "nbformat_minor": 5
}
