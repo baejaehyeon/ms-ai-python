{
 "cells": [
  {
   "cell_type": "code",
   "execution_count": null,
   "id": "3c50757b",
   "metadata": {},
   "outputs": [],
   "source": [
    "\"\"\" 소수 구하기 - 1\n",
    "사용자에게 1보다 큰 정수를 입력받아 소수 구하기\n",
    "소수란, 자기 자신을 임의의 숫자로 나누었을 때 나머지가 0인 숫자가 1과 자기 자신만 존재하는 수\n",
    "\"\"\"\n",
    "\n",
    "print(\"=\" * 10 + \"소수 구하기 프로그램\" + \"=\" * 10)\n",
    "\n",
    "num = int(input(\"1보다 큰 정수를 입력하세요\"))\n",
    "\n",
    "if num < 2 :\n",
    "    print(f'올바른 정수값을 입력하세요.')\n",
    "else : \n",
    "    #입력받은 모든 정수는 1과 자기 자신으로 나누었을 때 모두 나머지가 0이므로 나누어 볼 필요가 없음\n",
    "    chk = True\n",
    "\n",
    "    for i in range(2, num) : \n",
    "        if num % i == 0 : \n",
    "            chk = False\n",
    "            break #더 이상 수행할 필요 없음\n",
    "\n",
    "    if chk : \n",
    "        print(f'{num}은 소수입니다.')\n",
    "    else : \n",
    "        print(f'{num}은 소수가 아입니다.')\n"
   ]
  },
  {
   "cell_type": "code",
   "execution_count": 10,
   "id": "9e6cd8b1",
   "metadata": {},
   "outputs": [
    {
     "name": "stdout",
     "output_type": "stream",
     "text": [
      "소수 : 2\n",
      "소수 : 3\n",
      "소수 : 5\n",
      "소수 : 7\n",
      "소수 : 11\n",
      "소수 : 13\n",
      "2부터 15까지의 소수의 갯수는 6개 입니다\n"
     ]
    }
   ],
   "source": [
    "\"\"\" 소수 구하기 - 2\n",
    "사용자에게 1보다 큰 정수를 입력받아 입력받은 숫자까지의 소수의 갯수 구하기\n",
    "ex) 8 입력 시, 2부터 8까지 소수의 갯수는 2,3,5,7 4개\n",
    "\"\"\"\n",
    "\n",
    "maxNum = int(input(\"정수를 입력하세요\"))\n",
    "\n",
    "if maxNum < 2 : \n",
    "    print(\"1보다 큰 정수를 입력하세요\")\n",
    "else : \n",
    "    sum = 0\n",
    "    for num in range(2, maxNum+1) : #maxNum도 판별 대상에 포함\n",
    "\n",
    "        chk = True \n",
    "\n",
    "        for i in range(2, num) : \n",
    "            if num % i == 0 :\n",
    "                chk = False\n",
    "                break\n",
    "        \n",
    "        if chk : \n",
    "            print(f\"소수 : {num}\")\n",
    "            sum += 1\n",
    "\n",
    "    print(f\"2부터 {maxNum}까지의 소수의 갯수는 {sum}개 입니다\")\n",
    "    "
   ]
  },
  {
   "cell_type": "code",
   "execution_count": null,
   "id": "62658e6c",
   "metadata": {},
   "outputs": [
    {
     "name": "stdout",
     "output_type": "stream",
     "text": [
      "입력하신 숫자가 더 큽니다.\n",
      "입력하신 숫자가 더 작습니다.\n",
      "입력하신 숫자가 더 작습니다.\n",
      "입력하신 숫자가 더 큽니다.\n",
      "입력하신 숫자가 더 큽니다.\n",
      "입력하신 숫자가 더 큽니다.\n",
      "입력하신 숫자가 더 큽니다.\n",
      "정답입니다.\n"
     ]
    }
   ],
   "source": [
    "# 랜덤 숫자 맞추기\n",
    "\n",
    "import random\n",
    "\n",
    "answer = random.randint(1, 100)\n",
    "\n",
    "while True : \n",
    "    num = int(input(\"1부터 100사이의 숫자 입력 \"))\n",
    "\n",
    "    if num == answer : \n",
    "        print(\"정답입니다.\")\n",
    "        break\n",
    "    elif num < answer :\n",
    "        print(\"입력하신 숫자가 더 작습니다.\")\n",
    "    else : \n",
    "        print(\"입력하신 숫자가 더 큽니다.\")"
   ]
  },
  {
   "cell_type": "code",
   "execution_count": 2,
   "id": "365fd8c9",
   "metadata": {},
   "outputs": [
    {
     "name": "stdout",
     "output_type": "stream",
     "text": [
      "1234의 4번째 자릿수에는 4가 있습니다\n"
     ]
    }
   ],
   "source": [
    "# 강사님 문제 - 2\n",
    "\"\"\"\n",
    "Todo: 변수 a에 저장된 값의 b자리 값을 계산하여\t 변수 c에 저장하는 코드를 설계하라  \n",
    "#예를 들어 a에 1234가 저장되어 있고 b가 1일 경우 첫 번째 자리값인 4가 c에 저장된다.  \n",
    "#a가 1234일때 b가 4일 경우는 4번째 자리값인 1이 c에 저장되어야 한다.  \n",
    "\"\"\"\n",
    "\n",
    "a = 1234\n",
    "b = 4\n",
    "\n",
    "answer = str(a)[b-1]\n",
    "print(f'{a}의 {b}번째 자릿수에는 {answer}가 있습니다')"
   ]
  },
  {
   "cell_type": "code",
   "execution_count": 3,
   "id": "1bdc9cd9",
   "metadata": {},
   "outputs": [
    {
     "name": "stdout",
     "output_type": "stream",
     "text": [
      "(20.5 * 4.5) / 2 = 46.125\n"
     ]
    }
   ],
   "source": [
    "#강사님 문제 - 3\n",
    "\"\"\"\n",
    "삼각형의 넓이 구하기 \n",
    "# 사용자에게 삼각형의 밑변과 높이를 입력 받아 \n",
    "# 삼각형의 넓이를 출력하는 코드를 작성하세요. \n",
    "\"\"\"\n",
    "\n",
    "fNum1 = float(input(\"밑변 입력\"))\n",
    "fNum2 = float(input(\"높이 입력\"))\n",
    "\n",
    "print(f'({fNum1} * {fNum2}) / 2 = {(fNum1 * fNum2) / 2}')"
   ]
  },
  {
   "cell_type": "code",
   "execution_count": 2,
   "id": "7fd9cfaa",
   "metadata": {},
   "outputs": [
    {
     "name": "stdout",
     "output_type": "stream",
     "text": [
      "21\n"
     ]
    }
   ],
   "source": [
    "#강사님 문제 - 4\n",
    "\"\"\"\n",
    "다음 그림과 같이 바둑돌의 개수를 늘려가며 삼각형 모양을 만들려고 합니다. n이 입력으로 주어질 때, n단계에서 사용된 바둑돌의 개수를 출력하는 코드를 작성하세요. \n",
    "\n",
    "1 3 6 10 \n",
    "\"\"\"\n",
    "num = int(input(\"정수 입력 \"))\n",
    "sum = 0\n",
    "\n",
    "for i in range(1, num+1) : \n",
    "    sum += i\n",
    "\n",
    "print(sum)"
   ]
  },
  {
   "cell_type": "code",
   "execution_count": 8,
   "id": "b0dc2615",
   "metadata": {},
   "outputs": [
    {
     "name": "stdout",
     "output_type": "stream",
     "text": [
      "4 * 3 = 12\n",
      "444\n"
     ]
    }
   ],
   "source": [
    "#강사님 문제 - 5\n",
    "\"\"\"\n",
    "정수 num1, num2가 입력으로 주어질 때, 첫 번째 줄에는 num1과 num2를 곱한 수를, 두 번째 줄에는 num1을 num2번 반복하여 출력하도록 코드를 작성해주세요 \n",
    "\n",
    "입출력 예 #1 \n",
    "num1이 4, num2가 3이므로 첫째 줄에 4와 3을 곱한 12를 출력하고, 둘째 줄에 4를 3번 반복한 \"444\"를 출력합니다. \n",
    "\"\"\"\n",
    "\n",
    "num1 = int(input(\"첫번 째 정수\"))\n",
    "num2 = int(input(\"두번 째 정수\"))\n",
    "\n",
    "print(f'{num1} * {num2} = {num1 * num2}')\n",
    "print(f'{num1}' * num2)"
   ]
  },
  {
   "cell_type": "code",
   "execution_count": 1,
   "id": "6d67c23f",
   "metadata": {},
   "outputs": [
    {
     "name": "stdout",
     "output_type": "stream",
     "text": [
      "홀수\n"
     ]
    }
   ],
   "source": [
    "#강사님 문제 - 6\n",
    "# number가 짝수라면 \"짝수\"를, number가 홀수라면 \"홀수\"를 출력하도록 조건문을 작성해주세요. \n",
    "\n",
    "number = int(input(\"정수 입력\"))\n",
    "\n",
    "if number % 2 == 0 :\n",
    "    print(\"짝수\")\n",
    "else : \n",
    "    print(\"홀수\")\n",
    "\n",
    "    "
   ]
  },
  {
   "cell_type": "code",
   "execution_count": 3,
   "id": "bc5c093d",
   "metadata": {},
   "outputs": [
    {
     "name": "stdout",
     "output_type": "stream",
     "text": [
      "당신은 23점 이므로, F 입니다.\n"
     ]
    }
   ],
   "source": [
    "#강사님 문제 - 7\n",
    "# 입력된 학생의 점수 score에 따라 성적을 A, B, C, D, F로 구분하여 출력하는 코드를 작성해주세요 \n",
    "\n",
    "score = int(input(\"점수를 입력하세요\"))\n",
    "\n",
    "if score >= 90 :\n",
    "    print(f'당신은 {score}점 이므로, A 입니다.')\n",
    "elif score >= 80 : \n",
    "    print(f'당신은 {score}점 이므로, B 입니다.')\n",
    "elif score >= 70 : \n",
    "    print(f'당신은 {score}점 이므로, C 입니다.')\n",
    "elif score >= 60 : \n",
    "    print(f'당신은 {score}점 이므로, D 입니다.')\n",
    "else : \n",
    "    print(f'당신은 {score}점 이므로, F 입니다.')            "
   ]
  },
  {
   "cell_type": "code",
   "execution_count": 7,
   "id": "df9b4638",
   "metadata": {},
   "outputs": [
    {
     "name": "stdout",
     "output_type": "stream",
     "text": [
      "망나뇽님이, 적 혼테일을 처치하였습니다. 현재 혼테일의 hp : 0\n"
     ]
    }
   ],
   "source": [
    "#강사님 문제 - 8-1\n",
    "\"\"\"\n",
    "지민이는 온라인 게임을 하던 도중 갑작스럽게 적을 만났습니다. \n",
    "지민이의 캐릭터는 마나를 소모하며 공격하는 캐릭터이고 한 번 공격 시 마나 10을 소모하며 대미지는 20입니다.\n",
    " 지민이의 닉네임 my_nic과 적의 닉네임 enemy_nic이 문자열로 주어지고, 지민이의 마나량 mana, 적의 체력 hp가 정수로 주어질 때 \n",
    " 지민이가 남은 마나로 적을 쓰러뜨릴 수 있다면 \"my_nic kill enemy_nic\"을 쓰러뜨릴 수 없다면 \"enemy_nic kill my_nic\"을 출력하도록 코드를 작성해보세요. \n",
    "\"\"\"\n",
    "\n",
    "my_nic = \"망나뇽\"\n",
    "enemy_nic = \"혼테일\"\n",
    "mana = 500\n",
    "hp = 900\n",
    "\n",
    "#mane // 10 => 공격 가능 횟수(정수)\n",
    "#mane // 10 * 20 => 총 데미지\n",
    "hp = hp - mana // 10 * 20\n",
    "\n",
    "if hp > 0 :\n",
    "    print(f'{my_nic}님이, 적 {enemy_nic}에게 처치 당하였습니다. 현재 {enemy_nic}의 hp : {hp}')\n",
    "else : \n",
    "    hp = 0 #음수인경우 0 처리\n",
    "    print(f'{my_nic}님이, 적 {enemy_nic}을 처치하였습니다. 현재 {enemy_nic}의 hp : {hp}')\n"
   ]
  },
  {
   "cell_type": "code",
   "execution_count": 4,
   "id": "642937de",
   "metadata": {},
   "outputs": [
    {
     "name": "stdout",
     "output_type": "stream",
     "text": [
      "1 2 짝 4 5 짝 7 8 짝 10 11 12 짝 14 15 짝 17 18 짝 20 21 22 짝 24 25 짝 27 28 짝 짝 짝 짝 짝짝 짝 짝 짝짝 짝 짝 짝짝 40 41 42 짝 44 45 짝 47 48 짝 50 51 52 짝 54 55 짝 57 58 짝 짝 짝 짝 짝짝 짝 짝 짝짝 짝 짝 짝짝 70 71 72 짝 74 75 짝 77 78 짝 80 81 82 짝 84 85 짝 87 88 짝 짝 "
     ]
    }
   ],
   "source": [
    "#강사님 문제 - 8-2\n",
    "# 3, 6, 9로 끝나는 숫자에 '짝'을 출력하는 369 게임\n",
    "# \n",
    "\n",
    "\n",
    "while True : \n",
    "    maxNum = input(\"1부터 얼마까지 진행할까요? 종료는 'exit'를 입력하세요 : \")\n",
    "\n",
    "    if(maxNum == 'exit') :\n",
    "        break\n",
    "\n",
    "    maxNum = int(maxNum)\n",
    "    if maxNum < 2:  \n",
    "        print(\"1보다 큰 정수를 입력하세요\")\n",
    "        continue\n",
    "    \n",
    "    for i in range(1, maxNum+1) : \n",
    "        numStr = str(i) #숫자 -> 문자열\n",
    "\n",
    "        chk = False\n",
    "        printStr = ''\n",
    "\n",
    "        # 31 => 짝, 33 => 짝짝\n",
    "        for k in numStr : # 1개 문자 추출  '69' -> '6', '9'\n",
    "            if k in ['3', '6', '9'] : \n",
    "                printStr += '짝'\n",
    "                chk = True\n",
    "            \n",
    "        if not chk : \n",
    "            print(i, end = ' ')\n",
    "        else : \n",
    "            print(printStr, end=' ')\n",
    "        \n",
    "        #100 마다 라인 변경\n",
    "        if i % 100 == 0 :\n",
    "            print()"
   ]
  },
  {
   "cell_type": "code",
   "execution_count": 30,
   "id": "f1bcad1b",
   "metadata": {},
   "outputs": [
    {
     "name": "stdout",
     "output_type": "stream",
     "text": [
      "2 * 1 = 2\t2 * 2 = 4\t2 * 3 = 6\t2 * 4 = 8\t2 * 5 = 10\t2 * 6 = 12\t2 * 7 = 14\t2 * 8 = 16\t2 * 9 = 18\t\n",
      "3 * 1 = 3\t3 * 2 = 6\t3 * 3 = 9\t3 * 4 = 12\t3 * 5 = 15\t3 * 6 = 18\t3 * 7 = 21\t3 * 8 = 24\t3 * 9 = 27\t\n",
      "4 * 1 = 4\t4 * 2 = 8\t4 * 3 = 12\t4 * 4 = 16\t4 * 5 = 20\t4 * 6 = 24\t4 * 7 = 28\t4 * 8 = 32\t4 * 9 = 36\t\n",
      "5 * 1 = 5\t5 * 2 = 10\t5 * 3 = 15\t5 * 4 = 20\t5 * 5 = 25\t5 * 6 = 30\t5 * 7 = 35\t5 * 8 = 40\t5 * 9 = 45\t\n",
      "6 * 1 = 6\t6 * 2 = 12\t6 * 3 = 18\t6 * 4 = 24\t6 * 5 = 30\t6 * 6 = 36\t6 * 7 = 42\t6 * 8 = 48\t6 * 9 = 54\t\n",
      "7 * 1 = 7\t7 * 2 = 14\t7 * 3 = 21\t7 * 4 = 28\t7 * 5 = 35\t7 * 6 = 42\t7 * 7 = 49\t7 * 8 = 56\t7 * 9 = 63\t\n",
      "8 * 1 = 8\t8 * 2 = 16\t8 * 3 = 24\t8 * 4 = 32\t8 * 5 = 40\t8 * 6 = 48\t8 * 7 = 56\t8 * 8 = 64\t8 * 9 = 72\t\n",
      "9 * 1 = 9\t9 * 2 = 18\t9 * 3 = 27\t9 * 4 = 36\t9 * 5 = 45\t9 * 6 = 54\t9 * 7 = 63\t9 * 8 = 72\t9 * 9 = 81\t\n"
     ]
    }
   ],
   "source": [
    "#강사님 문제 - 9\n",
    "# 전체 구구단 출력\n",
    "\n",
    "for dan in range(2,10) : \n",
    "    for mul in range(1,10) :\n",
    "        print(f'{dan} * {mul} = {dan * mul}', end='\\t')\n",
    "    print()"
   ]
  },
  {
   "cell_type": "code",
   "execution_count": 33,
   "id": "babb42b8",
   "metadata": {},
   "outputs": [
    {
     "name": "stdout",
     "output_type": "stream",
     "text": [
      "*****\n",
      "*****\n",
      "*****\n",
      "*****\n",
      "*****\n",
      "*****\n"
     ]
    }
   ],
   "source": [
    "#강사님 문제 - 10\n",
    "# *을 가로로 a개, 세로로 b개 사용하여 직사각형을 만들려고 합니다. 정수 a, b가 매개변수로 주어질 때, a x b 직사각형을 출력하도록 코드를 작성하세요 \n",
    "\n",
    "inputStr = input(\"가로 세로 길이를 입력하세요. ex) 3, 4\")\n",
    "inputStr = inputStr.split(',')\n",
    "\n",
    "for height in range(int(inputStr[1])) : \n",
    "    print('*' * int(inputStr[0]), end='')\n",
    "    print()"
   ]
  },
  {
   "cell_type": "code",
   "execution_count": 34,
   "id": "f7dc5407",
   "metadata": {},
   "outputs": [
    {
     "name": "stdout",
     "output_type": "stream",
     "text": [
      ".다니입뇽나망 는저 요세하녕안\n"
     ]
    }
   ],
   "source": [
    "#강사님 문제 - 11 \n",
    "#문자열 거꾸로 뒤집기\n",
    "\n",
    "str1 = \"안녕하세요 저는 망나뇽입니다.\"\n",
    "print(str1[::-1])"
   ]
  },
  {
   "cell_type": "code",
   "execution_count": 5,
   "id": "576cff18",
   "metadata": {},
   "outputs": [
    {
     "name": "stdout",
     "output_type": "stream",
     "text": [
      "과일 가게에 오신 것을 환영합니다!\n",
      "오늘 판매하는 과일 : ['사과', '바나나', '오렌지', '포도', '수박']\n",
      "\n",
      "현재 재고 : [3, 3, 3, 3, 3]\n",
      "사과을(를) 구매하셨습니다. 남은 사과의 재고 2\n",
      "현재 재고 : [2, 3, 3, 3, 3]\n",
      "사과을(를) 구매하셨습니다. 남은 사과의 재고 1\n",
      "현재 재고 : [1, 3, 3, 3, 3]\n",
      "사과을(를) 구매하셨습니다. 남은 사과의 재고 0\n",
      "현재 재고 : [0, 3, 3, 3, 3]\n",
      "구매하려는 과일은 재고가 없습니다.\n",
      "현재 재고 : [0, 3, 3, 3, 3]\n",
      "바나나을(를) 구매하셨습니다. 남은 바나나의 재고 2\n",
      "현재 재고 : [0, 2, 3, 3, 3]\n",
      "바나나을(를) 구매하셨습니다. 남은 바나나의 재고 1\n",
      "현재 재고 : [0, 1, 3, 3, 3]\n",
      "바나나을(를) 구매하셨습니다. 남은 바나나의 재고 0\n",
      "현재 재고 : [0, 0, 3, 3, 3]\n",
      "오렌지을(를) 구매하셨습니다. 남은 오렌지의 재고 2\n",
      "현재 재고 : [0, 0, 2, 3, 3]\n",
      "오렌지을(를) 구매하셨습니다. 남은 오렌지의 재고 1\n",
      "현재 재고 : [0, 0, 1, 3, 3]\n",
      "오렌지을(를) 구매하셨습니다. 남은 오렌지의 재고 0\n",
      "현재 재고 : [0, 0, 0, 3, 3]\n",
      "포도을(를) 구매하셨습니다. 남은 포도의 재고 2\n",
      "현재 재고 : [0, 0, 0, 2, 3]\n",
      "포도을(를) 구매하셨습니다. 남은 포도의 재고 1\n",
      "현재 재고 : [0, 0, 0, 1, 3]\n",
      "포도을(를) 구매하셨습니다. 남은 포도의 재고 0\n",
      "현재 재고 : [0, 0, 0, 0, 3]\n",
      "수박을(를) 구매하셨습니다. 남은 수박의 재고 2\n",
      "현재 재고 : [0, 0, 0, 0, 2]\n",
      "수박을(를) 구매하셨습니다. 남은 수박의 재고 1\n",
      "현재 재고 : [0, 0, 0, 0, 1]\n",
      "수박을(를) 구매하셨습니다. 남은 수박의 재고 0\n",
      "모든 과일이 다 팔렸습니다. 가게를 종료합니다.\n"
     ]
    }
   ],
   "source": [
    "#강사님 문제 - 12\n",
    "#과일 가게 운영\n",
    "import sys\n",
    "\n",
    "fruitsName = ['사과', '바나나', '오렌지', '포도', '수박']\n",
    "fruits = [3,3,3,3,3]\n",
    "\n",
    "print('과일 가게에 오신 것을 환영합니다!')\n",
    "print(f'오늘 판매하는 과일 : {fruitsName}')\n",
    "print()\n",
    "\n",
    "\n",
    "while True : \n",
    "\n",
    "    print(f'현재 재고 : {fruits}')\n",
    "    buyFruit = input('어떤 과일을 구매하시겠습니까? (종료하려면 \"그만\"을 입력하세요) ')\n",
    "\n",
    "    if buyFruit == '그만' : \n",
    "        break\n",
    "    if buyFruit not in fruitsName : \n",
    "        print(f'구매하려는 상품 {buyFruit}은 존재하지 않습니다.')\n",
    "\n",
    "    findIndex =  fruitsName.index(buyFruit)\n",
    "\n",
    "    if fruits[findIndex] > 0 : #재고가 존재할 때만 구매 가능\n",
    "        fruits[findIndex] -= 1 #수량 차감\n",
    "        print(f'{buyFruit}을(를) 구매하셨습니다. 남은 {buyFruit}의 재고 {fruits[findIndex]}')\n",
    "                \n",
    "        #sum() : 숫자형 리스트 각 요소의 합계를 구해주는 함수\n",
    "        if sum(fruits) == 0 : \n",
    "            print('모든 과일이 다 팔렸습니다. 가게를 종료합니다.')\n",
    "            break            \n",
    "    else : \n",
    "        print('구매하려는 과일은 재고가 없습니다.')\n",
    "\n",
    "    "
   ]
  },
  {
   "cell_type": "code",
   "execution_count": 10,
   "id": "49f945db",
   "metadata": {},
   "outputs": [
    {
     "name": "stdout",
     "output_type": "stream",
     "text": [
      "사전에 단어가 추가되었습니다. 단어 : hhh, 뜻 : dd\n",
      "\"hhh\" is : dd\n",
      "\"python\" is : a high-level programming language\n"
     ]
    }
   ],
   "source": [
    "# 강사님 문제 - 13\n",
    "# 임의의 사전 딕셔너리를 생성하고, 사용자에게 key 값을 입력받아, 딕셔너리에 존재하는지 확인\n",
    "\n",
    "dic1 = {'python' : 'a high-level programming language', 'loop' : 'a sequence of instructions that are continually repeated'}\n",
    "\n",
    "\n",
    "while True : \n",
    "    inputStr = input(\"사전에서 찾을 단어 입력 (종료는 exit 입력)\")\n",
    "\n",
    "    if inputStr.lower() == 'exit' : \n",
    "        break\n",
    "\n",
    "    if dic1.get(inputStr) == None :\n",
    "        yAn = input('사전에 찾는 단어가 없습니다. 새로 등록하시겠습니까? (\"y\", \"n\") ')\n",
    "\n",
    "        if yAn.lower() == 'y' :\n",
    "            mean = input('등록하실 뜻을 입력하세요. 아무것도 입력하지 않으면 기본값 \"default\"가 삽입됩니다.')\n",
    "\n",
    "            # 값(value)이 존재하지 않으면 기본값을 삽입하고자 할 때\n",
    "            # dic1[inputStr] = mean or 'default'\n",
    "            dic1[inputStr] = 'default' if not mean else mean\n",
    "            print(f'사전에 단어가 추가되었습니다. 단어 : {inputStr}, 뜻 : {dic1[inputStr]}')\n",
    "    else : \n",
    "        print(f'\"{inputStr}\" is : {dic1[inputStr]}')\n",
    "        "
   ]
  },
  {
   "cell_type": "code",
   "execution_count": null,
   "id": "a1085c40",
   "metadata": {},
   "outputs": [],
   "source": [
    "# 강사님 문제 - 14\n",
    "# 세 명의 학생과 성적 정보를 리스트와 딕셔너리로 관리한다. 이 때 각 학생의 평균 성적을 계산하여 출력할 것"
   ]
  },
  {
   "cell_type": "code",
   "execution_count": null,
   "id": "e00d3c36",
   "metadata": {},
   "outputs": [
    {
     "name": "stdout",
     "output_type": "stream",
     "text": [
      "24\n",
      "24\n"
     ]
    }
   ],
   "source": [
    "# 강사님 문제 - 15\n",
    "# 숫자들의 배열을 입력하면 가장 작은 값을 구하는 함수\n",
    "\n",
    "def num_in (numList) :\n",
    "    minNum = numList[0]\n",
    "    \n",
    "    for i in numList : \n",
    "        if i < minNum :\n",
    "            minNum = i\n",
    "\n",
    "    print(minNum)\n",
    "\n",
    "testArr = [52, 273, 32, 103, 275, 24, 57]\n",
    "num_in(testArr)"
   ]
  },
  {
   "cell_type": "code",
   "execution_count": null,
   "id": "70ebd488",
   "metadata": {},
   "outputs": [
    {
     "name": "stdout",
     "output_type": "stream",
     "text": [
      "[52, 32, 24]\n"
     ]
    }
   ],
   "source": [
    "# 강사님 문제 - 16\n",
    "# 하나의 리스트를 입력 받아 짝수만 화면에 출력하는 함수 정의\n",
    "\n",
    "def print_even(numList) :\n",
    "    \n",
    "    print([i for i in numList if i%2 == 0])\n",
    "    \n",
    "\n",
    "testArr = [52, 273, 32, 103, 275, 24, 57]    \n",
    "print_even(testArr)"
   ]
  },
  {
   "cell_type": "code",
   "execution_count": 19,
   "id": "e6ac5c36",
   "metadata": {},
   "outputs": [],
   "source": [
    "# 강사님 문제 - 17\n",
    "# 컴퓨터와 가위바위보 게임\n",
    "# 아래 코드가 동작할 수 있도록 checkwin()과 continueConfirm() 함수 구현하기\n",
    "\n",
    "import random\n",
    "\n",
    "sel = ['가위', '바위', '보']\n",
    "\n",
    "#user가 이겼을 때 True, 비기거나 졌을 때 False\n",
    "def checkWin(user, com) : \n",
    "    if (user == '가위' and com == '보') or (user == '바위' and com == '가위') or (user == '보'   and com == '바위') :\n",
    "        return True\n",
    "    return False\n",
    "\n",
    "def continueConfirm() :\n",
    "    return True if input('계속 진행하시겠습니까? (y, n)') == 'y' else False\n",
    "\n",
    "\n",
    "while True : \n",
    "    user = input('가위, 바위, 보')\n",
    "    com = sel[random.randint(0, 2)]\n",
    "\n",
    "    if checkWin(user, com) :\n",
    "        if continueConfirm() :\n",
    "            continue\n",
    "        else : \n",
    "            break\n",
    "\n"
   ]
  }
 ],
 "metadata": {
  "kernelspec": {
   "display_name": "Python 3",
   "language": "python",
   "name": "python3"
  },
  "language_info": {
   "codemirror_mode": {
    "name": "ipython",
    "version": 3
   },
   "file_extension": ".py",
   "mimetype": "text/x-python",
   "name": "python",
   "nbconvert_exporter": "python",
   "pygments_lexer": "ipython3",
   "version": "3.11.8"
  }
 },
 "nbformat": 4,
 "nbformat_minor": 5
}
