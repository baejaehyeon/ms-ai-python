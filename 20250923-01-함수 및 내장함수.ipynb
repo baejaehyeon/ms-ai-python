{
 "cells": [
  {
   "cell_type": "code",
   "execution_count": null,
   "id": "51a25aa7",
   "metadata": {},
   "outputs": [],
   "source": [
    "# 함수 : 하나의 기능을 제공하는 로직의 집합"
   ]
  },
  {
   "cell_type": "code",
   "execution_count": null,
   "id": "5d66bc88",
   "metadata": {},
   "outputs": [],
   "source": [
    "# 리턴 값이 2개이면, 튜플 형태로 반환함.\n",
    "\n",
    "def add(a,b) :\n",
    "    return a+b, a*b\n",
    "\n",
    "\n",
    "tuple1 = add(1,2) # 튜플로 반환\n",
    "print(tuple1)\n",
    "\n",
    "a, b = add(1,2)   # 반환된 튜플 원소 각각의 변수에 할당\n",
    "print(a)\n",
    "print(b)"
   ]
  },
  {
   "cell_type": "code",
   "execution_count": null,
   "id": "3dc7a26e",
   "metadata": {},
   "outputs": [],
   "source": [
    "def test(b) : \n",
    "    global c # 전역 변수로 선언\n",
    "    b = b + 1 # b는 지역 변수 == 외부에서 접근 불가\n",
    "    c = b\n",
    "\n",
    "test(3)\n",
    "print(c)"
   ]
  },
  {
   "cell_type": "code",
   "execution_count": null,
   "id": "9d30c511",
   "metadata": {},
   "outputs": [],
   "source": [
    "# zip : 서로 다른 이터레이블 형태의 변수들의, 동일 인덱스 번호 원소끼리 묶음(병렬)\n",
    "\n",
    "r=  (52, 255, 29, 132)\n",
    "g = (19, 63, 227, 197)\n",
    "b = (0, 68, 255, 187)\n",
    "\n",
    "#zip은 튜플 형태로 반환하기 때문에 리스트화\n",
    "img = [list(i) for i in zip(r,g,b)]\n",
    "print(img)"
   ]
  },
  {
   "cell_type": "code",
   "execution_count": null,
   "id": "d0b77dd4",
   "metadata": {},
   "outputs": [
    {
     "name": "stdout",
     "output_type": "stream",
     "text": [
      "0 : 5\n",
      "1 : 2\n",
      "2 : 7\n",
      "3 : 3\n",
      "4 : 5\n",
      "5 : 8\n",
      "6 : 9\n",
      "7 : 10\n",
      "{0: 5, 1: 2, 2: 7, 3: 3, 4: 5, 5: 8, 6: 9, 7: 10}\n",
      "(0, 5)\n",
      "(1, 2)\n",
      "(2, 7)\n",
      "(3, 3)\n",
      "(4, 5)\n",
      "(5, 8)\n",
      "(6, 9)\n",
      "(7, 10)\n"
     ]
    }
   ],
   "source": [
    "# enumerate : 이터레이블의 인덱스 번호와, 원소값 리턴\n",
    "\n",
    "list = [5,2,7,3,5,8,9,10]\n",
    "\n",
    "for (idx, num) in enumerate(list) : \n",
    "    print(f'{idx} : {num}')\n",
    "\n",
    "# enumerate를 활용해 리스트를 딕셔너리화\n",
    "dic1 = dict(enumerate(list))\n",
    "print(dic1)"
   ]
  },
  {
   "cell_type": "code",
   "execution_count": null,
   "id": "5d14af2b",
   "metadata": {},
   "outputs": [
    {
     "name": "stdout",
     "output_type": "stream",
     "text": [
      "[5, 3, 7, 6, 2]\n",
      "[6, 4, 2, 8, 7, 3]\n"
     ]
    }
   ],
   "source": [
    "# map (함수,이터레이블): 이터레이블을 순회하며, 각 원소에 적용할 함수를 작성 \n",
    "# 전달된 원본 이터레이블과 동일한 길이로 반환된다.\n",
    "\n",
    "list1 = [5, 3, 1, 7, 6, 2]\n",
    "\n",
    "def add(a) :\n",
    "    return a + 1\n",
    "\n",
    "\n",
    "list1 = list(map(add, list1))\n",
    "print(list1)\n",
    "\n",
    "# 람다 사용  lambda 미지수 : 요소에적용할 식\n",
    "\n",
    "list1 = [5, 3, 1, 7, 6, 2]\n",
    "list1 = list(map(lambda x : x + 1 , list1))\n",
    "print(list1)"
   ]
  },
  {
   "cell_type": "code",
   "execution_count": 11,
   "id": "f737a29c",
   "metadata": {},
   "outputs": [
    {
     "name": "stdout",
     "output_type": "stream",
     "text": [
      "[6, 2]\n",
      "[6, 2]\n"
     ]
    }
   ],
   "source": [
    "# filter(함수, 이터레이블) : 이터레이블을 순회하며, 각 원소에 적용할 함수를 작성 \n",
    "# 전달된 원본 이터레이블과 동일한 길이로 항상 반환되지 않고, 리턴된 원소들로 구성됨\n",
    "\n",
    "\n",
    "list1 = [5, 3, 1, 7, 6, 2]\n",
    "\n",
    "def add(a) :\n",
    "    return True if a % 2 == 0 else False\n",
    "\n",
    "\n",
    "#map을 사용하면 짝수가 아니여도, None으로 원소를 차지했다면 filter는 제외됨\n",
    "list1 = list(filter(add, list1))\n",
    "print(list1)\n",
    "\n",
    "# 람다 사용  lambda 미지수 : 요소에적용할 식\n",
    "\n",
    "list1 = [5, 3, 1, 7, 6, 2]\n",
    "list1 = list(filter(lambda x : True if x % 2 == 0 else False, list1))\n",
    "print(list1)\n"
   ]
  },
  {
   "cell_type": "code",
   "execution_count": null,
   "id": "35796989",
   "metadata": {},
   "outputs": [
    {
     "name": "stdout",
     "output_type": "stream",
     "text": [
      "[1, 4, 9, 16]\n",
      "[2, 4]\n",
      "[(5, 1), (1, 2), (3, 4)]\n"
     ]
    }
   ],
   "source": [
    "numbers = [1,2,3,4]\n",
    "squared = list(map(lambda x : x**2, numbers))\n",
    "print(squared)\n",
    "\n",
    "numbers = [1,2,3,4,5]\n",
    "even_numbers = list(filter(lambda x : x%2==0, numbers))\n",
    "print(even_numbers)\n",
    "\n",
    "points = [(1,2), (3,4), (5,1)]\n",
    "sorted_points = sorted(points, key=lambda x : x[-1]) # key == 정렬 기준 == 마지막 원소\n",
    "print(sorted_points)"
   ]
  },
  {
   "cell_type": "code",
   "execution_count": null,
   "id": "6de797d9",
   "metadata": {},
   "outputs": [
    {
     "name": "stdout",
     "output_type": "stream",
     "text": [
      "[1, 2, 4, 3]\n"
     ]
    }
   ],
   "source": [
    "# 평균값이 몇등인지\n",
    "\n",
    "scores = [[80, 70], [90, 50], [40, 70], [50, 80]] # [1, 2, 4, 3]\n",
    "\n",
    "def rank(score) :\n",
    "    avg = [(i+j)/2 for i,j in score]           #평균값 리스트\n",
    "    avgRank = sorted(avg.copy(), reverse=True) #평균값 순위 리스트\n",
    "    avg = [avgRank.index(i)+1 for i in avg]    #평균값이 평간값 순위 리스트의 몇번 째 인덱스에 존재하는지\n",
    "\n",
    "    return avg\n",
    "            \n",
    "rankList = rank(scores)\n",
    "print(rankList)"
   ]
  },
  {
   "cell_type": "code",
   "execution_count": null,
   "id": "07286b8e",
   "metadata": {},
   "outputs": [
    {
     "name": "stdout",
     "output_type": "stream",
     "text": [
      "[True, True, False, True, False, True, False, False, False, True, False, True]\n"
     ]
    }
   ],
   "source": [
    "# 소수 판별\n",
    "\n",
    "numList = [2,3,4,5,6,7,8,9,10,11,12,13]\n",
    "\n",
    "def isPrime(num) : \n",
    "    for i in range(2, num) :\n",
    "        if num%i == 0 :\n",
    "            return False\n",
    "    return True\n",
    "\n",
    "\n",
    "primeList = list(map(isPrime, numList))\n",
    "primeList = [isPrime(i) for i in numList]"
   ]
  },
  {
   "cell_type": "code",
   "execution_count": 76,
   "id": "b9afb2db",
   "metadata": {},
   "outputs": [
    {
     "name": "stdout",
     "output_type": "stream",
     "text": [
      "lleoH\n",
      "Hello\n"
     ]
    }
   ],
   "source": [
    "\"\"\"\n",
    "애너그램(Anagram) 이란 주어진 단어를 이루는 문자의 위치를 뒤바꾸어 새로운 단어를 만드는 것을 말합니다. 애너그램을 이용해 암호화, 복호화를 하려고합니다. \n",
    "암, 복호화할 단어와 애너그램 테이블이 주어집니다. 애너그램 테이블은 단어를 암호화한 후의 문자들의 위치가 저장되어 있습니다. \n",
    "예를들어 문자열 \"Hello\"를 암호화  할 때, 애너그램 테이블이 [4, 2, 0, 1, 3]이면, 문자열의 0번째 값인 'H'는 애너그램 테이블의 0번째 값에 해당하는 4에 의해\n",
    " 4번째로 이동하고 같은 방식으로 'e'는 2번째로, 'l'은 0번째로, 'l'은 1번째로, 'o'는 3번째로 이동하여 \"lleoH\"가 됩니다. \n",
    "위의 방법으로 만들어진 애너그램 암호문을 복호화하려면 애너그램 테이블의 인덱스와 값의 반대 방향으로 문자열의 순서를 바꿔주면 됩니다. \n",
    "예를들어 암호화된 문자열이 \"lleoH\"이고 애너그램 테이블이 [4, 2, 0, 1, 3]이면, 애너그램 테이블의 0번째 값인 4에 해당하는 문자인 'H'는 해당 인덱스인 0번째로 이동하고\n",
    " 같은 방식으로 'e'는 1번째로, 'l'은 2번째로, 'l'은 3번째로, 'o'는 4번째로 이동하여 \"Hello\"가 됩니다. \n",
    "암호화할 문자열 text와 애너그램 테이블 anagram, 암호화를 할지 복호화를 할지가 저장된 변수 sw가 주어질 때 암호화 또는 복호화된 문자열을 return하도록 solution함수를 작성해주세요 \n",
    "\n",
    "입출력 예 \n",
    "\n",
    "text    anagram         sw      result \n",
    "\n",
    "\"Hello\" [4, 2, 0, 1, 3] True    \"lleoH\" \n",
    "\n",
    "\"lleoH\" [4, 2, 0, 1, 3] False   \"Hello\" \n",
    "\"\"\"\n",
    "\n",
    "text = \"Hello\"\n",
    "anagram = [4, 2, 0, 1, 3]\n",
    "\n",
    "def encText(txt, encYn) : \n",
    "    result = list(txt)\n",
    "    \n",
    "    for (idx, t) in enumerate(txt) :\n",
    "        if encYn : \n",
    "            # 암호화\n",
    "            result[anagram[idx]] = txt[idx]\n",
    "        else : \n",
    "            # 복호화\n",
    "            result[idx] = txt[anagram[idx]]\n",
    "            \n",
    "    # 하나의 문자열로 리턴\n",
    "    return ''.join(result)\n",
    "\n",
    "eText = encText(text, True)\n",
    "print(eText)\n",
    "\n",
    "dText = encText(eText, False)\n",
    "print(dText)\n"
   ]
  }
 ],
 "metadata": {
  "kernelspec": {
   "display_name": "Python 3",
   "language": "python",
   "name": "python3"
  },
  "language_info": {
   "codemirror_mode": {
    "name": "ipython",
    "version": 3
   },
   "file_extension": ".py",
   "mimetype": "text/x-python",
   "name": "python",
   "nbconvert_exporter": "python",
   "pygments_lexer": "ipython3",
   "version": "3.11.8"
  }
 },
 "nbformat": 4,
 "nbformat_minor": 5
}
